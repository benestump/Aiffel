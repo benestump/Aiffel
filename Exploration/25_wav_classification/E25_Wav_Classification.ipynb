{
 "cells": [
  {
   "cell_type": "markdown",
   "metadata": {},
   "source": [
    "### E25. Spectrogram Classification\n",
    "\n",
    "- 목표\n",
    "    - Audio 형태의 데이터를 다루는 방법에 대해서 알아보기\n",
    "    - Wav 파일의 형태와 원리를 이해하기 \n",
    "    - 오디오데이터를 다른 다양한 형태로 변형시켜보기 \n",
    "    - 차원이 다른 데이터에 사용가능한 classification 모델 직접 제작해보기 "
   ]
  },
  {
   "cell_type": "code",
   "execution_count": 7,
   "metadata": {},
   "outputs": [],
   "source": [
    "import numpy as np\n",
    "import matplotlib.pyplot as plt\n",
    "import os\n",
    "import IPython.display as ipd\n",
    "import random\n",
    "from sklearn.model_selection import train_test_split\n",
    "import tensorflow as tf\n",
    "from tensorflow.keras import layers\n",
    "import matplotlib.pyplot as plt\n",
    "import librosa\n",
    "import librosa.display"
   ]
  },
  {
   "cell_type": "markdown",
   "metadata": {},
   "source": [
    "#### 1. 데이터 로드 및 전처리 "
   ]
  },
  {
   "cell_type": "code",
   "execution_count": 8,
   "metadata": {},
   "outputs": [],
   "source": [
    "data_path = os.getenv(\"HOME\") + '/aiffel/speech_recognition/data/speech_wav_8000.npz'\n",
    "speech_data = np.load(data_path)\n"
   ]
  },
  {
   "cell_type": "code",
   "execution_count": 9,
   "metadata": {},
   "outputs": [
    {
     "name": "stdout",
     "output_type": "stream",
     "text": [
      "Wave data shape : (50620, 8000)\n",
      "Label data shape : (50620, 1)\n"
     ]
    }
   ],
   "source": [
    "print(f\"Wave data shape : {speech_data['wav_vals'].shape}\")\n",
    "print(f\"Label data shape : {speech_data['label_vals'].shape}\")"
   ]
  },
  {
   "cell_type": "code",
   "execution_count": 10,
   "metadata": {},
   "outputs": [
    {
     "name": "stdout",
     "output_type": "stream",
     "text": [
      "rand num : 35310\n",
      "Wave data shape : (8000,)\n",
      "label : ['right']\n"
     ]
    },
    {
     "data": {
      "text/html": [
       "\n",
       "                <audio  controls=\"controls\" >\n",
       "                    <source src=\"data:audio/wav;base64,UklGRqQ+AABXQVZFZm10IBAAAAABAAEAQB8AAIA+AAACABAAZGF0YYA+AACV+p7yne7G6dDq3+qn61fuV/F09Wv4Tvxe+3j5pPlT9n3vy+jN5Xbe7NmJ1bHSOM+6z1vVSNY52mPhBeoY8Bz8mQk4FhQgtCs3NaE+HkhKTs9ROU0vSJJBJznaLFklLhkQD+MG6wMKAxsCLwi/B0EMaBDhFjYY3BbEFmoTvA+bCckDSvvE9lzzKuxA5T3inN9Q3G/Zxdan1UrVjtac103ZY9yC3w3iPuYq7EPuUPG68hv09fTb88PyK+7S65joNuX+4rfg2N6e3fPeLOBW313gP+MC5RzmFupY7BTtmPLX+YQAwASRCAIPThfKHKwhLCYZKa0rfy6ML30uiS1PLDErYCcbJL4fQhxeGgMXpRIyEJYQVA9oDl0Oqg6CDaIM1g0FESEPqwqtCe0IFwhyAzX+nfWI8Pnrs+Vl4ZbbENapzxnP184yz5PPRtLD1vnard9V5Ens4fNC+g8BMAorEEIUGRlgHJgdwx+lIPgcLxqHGGUUpg/9CoIGFgKv+w34yvWJ8r7xKfF170jvvvCA84T1Ffdy+Gj5efwn/gQBrQOkBMADNQSBB4UHeQcyB8UFwwF+AcgAef6N/pT8o/so+wf9Rf3U+w78+f72/jT+6QB+ARIBMwIJA80CNQIRArcECgPgAXoBfAIeArIAkgF8//H/2gB1AdgAFQODBtsGfgaICMcJ0AogDYsOLw6dC4gMSAzfCQ4GSARHBFsAe/wB+7/5JPf081jzvfP29Pv1mvRc9Gn46vy3/cb+IQHSBDoHhgq6C7sOsBLWEv0THBSqEyMUkxN+D00MAQg6BeAC8P+e+m74bPaC80zy7+637PPpbOzt6knqk+yC7Cvtru1+8Irx6PKB9aP1gfeB+Sb8e/zs/BH/6v49AmUCuwEmAssA0/3N+7n9j/8LAaQA5f94AQEGkAc9BpIGVQbxBjMINAhVBucGyQkYCPMGlQp2CV8I2QqiDQMN4AmHCwMMFAt+CssL8gyIDKIMvwpZCrEKNAoPCSwLPQz3CaQIjQfHBwgIGgfDA/sBMf/7/C79jPyO+Zz3D/mb+NP4Wvjg9wz3G/gn+vr4MPjl+cn7Q/sR/gQAmwGMAaoDeQXqAxcFzQWjBWAESARXAtUAJwC+AQsBbwGNAT8CHwKMAKgAVwAfA+4AQQJzASABcgK/BP0IeAdMBjoFtwbgBr8FBAOvARwDSgHJAP0Aof+bAI4B2P8r/mz/BgCw/S/9Av9BAe4ABgHV/+P/pAEnAZ4BzAAlAbkByf/f/w0CMgLdADv+kv9J/vT7o/uJ+qv7tvt2/RP8rP2cAPgAzALsA/ME5AaCCMMIUQkoC5oNGg7sCycOXxBND18STRLPEewRBRNVE1sSoxGbEA0NGQlPC4IL1QoWCoEHuwVyBWkHAQpRCPgFRgTHA7sG2wVFAzUBov9xALQBGwFx/9D/Dv5F/I79J/4x/zv+5Pxe/OT8Lf9r/lL7mfmG/nL/J/zm/Rv/0/2I/QH+efw7/Br+Gv6D+pb8L/+w/Ar8C/zr/Cf9Af9yAWb/TQJBBc4EWgViBRUGLwc5B/EFYwb9BoALPQp8CHMKggw5DkIL3gtWCXEKcgu7CB4IiAeuCJMHxgS9Az4DKgHxALL/5fyO/An+ff8jATX+VP4HAmECrgIjBL0EqgELAkED4gHwAkkDJgA7/iMA9AC2/4kAnAAy/0b/nQJYApEB+gMCBBkBYQDSAZX+Zf3L/Cz8Cfn3+av/tf5v/Pr8pP/k/ysAwP5S/pL/SQL2Adv+nf6W/7wCJQHIAUoERASiAjcCfATBBB4EhAJNAxIEagRjB9AG8QSHBH8DUQOmBUcFVgLLAnYD2AJKAsQBuf9WAMcAxwHSAlkCYwJ0ApoBwQC4BKoEtwPCAxsDUgNhA+gDiwEdANUBrAOFAvUBpAIFA2wDxQCd//AATAFf/y3+CgElAiMBbABPAHIDqwSMBUQFHwIaAer/xf/rADkAv/9aADgAkQFkAUz+iPyH/uH97fok+ub5vPfS9w37PPvG+w/6s/uJ+k76e/yx+9j7SfmE/J78ifyd/Tz9if7m/loAfP9m/SL/ogAn/0X95fxQ/tr82v04/rH9xP7MAHwB9f33/ZD+Fv6q/s7/fwL8AWECJARgBAADWwJ0BaIChQI2AWH/b//P/6MDwQAuABoDiAJGAP3/JQCo/wv9Fvwn+/X7Uv4S/kD+b/0c/5YAkP+g/ev+0P0S+0L8EP4W/L/6tP0++9X58PuN/jj93/mj/Bf7b/ob/pj9afxf+if8kPtE+of7/vft9GzwvO8f8crxu/Ga8CrwgvMa+qL9+gBzAncEugfZCt4LrgmdBar/m/2p+yf4gvUp9cv2ivoiAEsGMQ6lFTYcDSFoKNUr4i3SLLglmSEIHgwXXQt5Abr4NvDg5sbfMtoA1HnR2syRy03P+tCW0eTRW9cy283d1eLt40fjQOAj32Lc09fI0/PQa9AKzlzPAdUW28DjRO1U95QCOQ6DFpMaBh6pHp4eBRpyFh8SPwx0BaQAiwDSAI4BCAAyBAoGIgm6DbgPRw/FDl0R8Q76DesPyhC+D4AQrBSCFbkVoxc8F+cXmxqoHPIZ/xmMHIMZshgFGS0XjhWLENAJCAVM/2T4nPGB7TDl+t/A3craXdrJ2aTc7dve3ofjO+Ww46Xk/+Wz5VTo6uS04X/gkOG84E/fNd8m3fDcbN6x3zLiEOWq5zPsKPGf9JT5Cv56AgcInAphDgkSmBSXFV0Xshc5F1gXCBUzFAwT8A9QDGMHXAOXAPX9iPqS9Xr0p/OO8Pnu3O4c7w7wxe7J7vrwNPJk9rj4evtU//v/wgBxAtMFjgr/Cn8IEQmDCq8LtAv9CqIKxAjXCYwIHgXhAnP/Yv6G/EP6JvgC+Av3JfTA9Bj1EfQt9MP07vQ49Zr28Paj9Zn2w/dJ9U71pfjq9v/0hPUE+AD6XPo9/OH8//2RAOYDAwQHAjwCkQHZ/5D/EP6O/mj8xvrQ+Av2pvZh9hj17PGQ85XyWPKu8gf2svfj9hr58vmz/ZUAOwMvBGkFAQUTBGkFsAaZBZkEtwKKAasAMgDP/8f9dP1V+of2rfTu9BHyL++97ffqoOl16eLpG+sx7UTtru0y8gP1JPcb+4n7kv75AvcG2Ae0CJ4MKQ9gELcOXg8sEL8SuxEzEasPpQ1eD6UPkQ85C9wKxgr0CWgHBAbQBNEChAPOAWH/HP9JAp4AVv0X/+X/5/19/KT89P0F/fL69Ppi+k36mfu9+jX6p/zo/nv9wvvD+4v7Yfx/+3P5TvkO+9D7JPm59kD4CfiR+B34GPb29/v3Sfg59uj3u/la+HL4MPjA+WH7R/4O/Zf9iAD5AosFJgUEBnsG6gWvCGIKJAt/CAcG9AYMCKwKFQgLBrIDVgXwB04GEgULBEAE2QJCAmMA6P1PAF0Bh/6x/oMBMQP7AVMDcQTNAuYDyQUWBQ4DYwF2/0n/HAKQAkQCRQEAAW0EFwUdA7cCbwVFBdMDtgTQA9oBYgQwB7QEGwUBCIwHZweWCIIGAwZiB1IH9AbUB/kIrQicCFkHWghgCbUJQQigCL4J3AeUB90I0gnXCE4LRwvPCWwKNwwNC7UJIwukCpMJJAiGCWwIDAY0BTcERgK5AQ0CCgF7AAcBOgD8+8b6gf1J+/L2TPcz+cX5GPd490z3u/bH+Ob4fPnO+Vb7RP0d/bb+Hf9k/e3/kwEsA2EB4AH9A4IDagPeBHcGMQVkCL4Jowm/CAwKAQpJCTcIVghvCFAHnAfTB1wITghYCkcHLgk8CkAKqglVCd8KlgizCMwGTgieCEUI8wm4CWMHHAaJCLIJuwiaCOcH2AjJCaYK3wlOCDsHXQYWB8cEeQXFArsAaAFYAtH/MP9xAowBVAC4//gB/f8RAG4BOwJ4AHEA9QOZAhgCVQJiAqAD1QPNAb0BtAC3AL4AdP8uACoCmQJhAeYAcAHvAcEDGAQpAacAvP94AMcA8/+VAOsCswHxAFACtAHGAt0DwQNXAQ4EFQaqBfAGYQeEBgYHXgkRCZ4HXAcMCfgGsQX4BwgIfwfJCFMISQiNCBcHtwg2CZsH+AblB/IHvAiGCWcILwZRCCAKsAgmCtcI6gbuBIAH5QjjBtEFBAT4BewGigf6BsMFcgVTBIYE1gUVBWAEQQSGAiwDWgMXAkkCWgMTA2MB1AItBBkE3QN5Aj4CwQJtA7wCqwHWAAgBZwISBLcDCAI1ASMBxwMXBIwDlwNMAtkCEgRzBEYGmgXhBLkFSQV5BUYGwgXUAxkEiwUkB38GswezB7MEMQWwBkoG4wR3BDoFgAWiCLkJkAhkCB0IFQjLBjAIGwfaBScG7gdbCO8HCwmCCToKUgvODCwLxgnPCK0InAhtCEIHqQbqB/AGiwfMCNkJwggICC0GawZVBZ0E8wXfAp0EVwO7A70E/gMOAysD6wS1ApwB6QEdAa8AiQGvARECWgKeAVEBpQF2/7T+3f7iAZsBzP/nABgA/wDiAOUCbALr/+H/SQDoAEIAyv5M/+j/W//X/6EAQQGrAMsBpQAxAFwBFgA6/jL/0AElADEAMABFAY8AMwG3At7/p/9xAfUBSgCgAWgCcgHB/3AAIADh/gEBBAL7/p/+OAE0AAEBrgIfAjgAJADi/2gAFgBEAWABdP5t/wcChgR/AlP/8/+4AFf/3P40ANEAEQHpASUBMwB2AbsC1QDs/af9Kf9eAOUAaf9O/Qv/WAMxAsv/hAFcAFT/y/5vAID/OP3l/ab8KP/9AHP/jP0g/ab/PgHV/p79Gv3t/fX+6/wG/Ez7bf0//8L+8/1h/XH9jv3O/RD8B/sF/Zv9Ffw//U798/y6/dD8Wvuz+gX97fvy+Ub81P4M/b36sPu9+lP76v2i/Pn65fr2+hX74foi/87+/Pz9/NP62/yG/yv+NvvD+537/vv3/QD+Rf2S/E/8MPzM/HD+F/wu+xL9lv3m/Hr+qf8D/cb8WPzm/b3+Wf6T/HH7YQBEAJ38p/4U/x790/w1/Bj8L/2y/jz8Ef3/AHP/+v10/VT8rvyo/p39GPpL+hD98/1D/eb7mP0Z//D7KPvV/MX+zv1G+6z6XfvG/Hv9JP06+rv5KfpQ+/T81/zz+BP4uvmk+ZD8UP1c/FX6c/pd/E7+df12+ln4c/va+7z6cfug+z/8Sfuz/Pf4zvmZ+xz6ofhi+Dz7cfcZ93b61vra+T/6W/ki+WT81PvF+mb3xvj6+9P63/l3+fD6ofp4+tP7//xA+p76aPt/+cn58Ptk+VX42vqs+Or4T/u4/Cz6mfxV/DD7Wvw1+0b7Cfp2+4L8gfv2+eL7+PxW/N/6n/pz+775mPre+535i/lO+2T7Nvpa+gP7C/pI+3n7Zfp4+uj6avrd+o/8svtl+Ub6Lvrs+lr73fbW9ir4VPhg+Fn47veS9534qfhV+rv6fvnI+Cr5Jfqj+MP3zvk6+835Wfmx+cb5OPqz+yr7ffkM+gz47PZr9qL3v/gP+ED4BvdW+KX6+/t1+hX5+flz+zT6ZPjo+ZD67Poi+iL6v/vs+137KfsE+137gvlg+Qr6oPxS/LX43Ppn/MH76/rD/ED7UPvD+4r7Lf0++z/6d/oz/Gf9Q/8v/qr6OfsX/of+7/ve+5b7bfvq+lH8jv0Z/Uf8efug+4n83v7K/s7+Hfw6/hX+rvxl/OT8Zv4S/Vb8bfoI/Xn8Lv2x+076hfyI/c/9kfwD/Kv8Jv5H/EP7YvvA+6/7FPvw+fL4CfsV/XL7KvtW/fD9iP2Q+mP5pvvk+5n5kveo+qn8A/y5/Cb+VP5G/Vj9kf6p/xP/MP32+z79//xk/Ev9Hf5W/Ub9X/6V/ZL9Vv5G/AH72vwl/jP9KP7L/Rn8IvyD/WP+Ev1U/v3/aABZ/qv9Cf5E/kX/IQCj/bX88/6z/lr+I/8WAej8pft8/4f/n/2z+6/9Gv6h/6f/Gf7A/sr///5d/Z3/ff0CACb/i/yQ/YYAsAAH+zj9/f5OAP//r/8i/g7+lv2d/Wz++Pzk/lv+pPwu/Yv/Of5t/Rr/8QC//6n+0P88AMsAuv5Y/dH83f1H/9r8XfsQ+xb+rgBx/sr+hf79/Pf8xP+//jD+kP9N/XL9bv51/9b+Hv58/pf9Tf2a/8MBdACo/k0AQ/+i/8H+wPyQ/1b8iP32//D/HAFPAAP+HP3PAs4DKAG8/yP/9/0C/qX/z/++/u/+KgCzADkDRwP8AW8Aqv6w/9cB9v9B/bH8r/2a/uv/HAOoARUBGwGYArkDRwN+AxX/Rv+FAbEBqAA4APgBnP+C/5MCRAEW/7EANwFK/+IAAwH4/oD/kACfAQgAWwDbAk0C5gGdAd0ASQASA24D4gEyAtMBdwEFABsBXwGUAWIAvf8dAk8CFAPKAR4BDAD6AFECdACMAN/+LQAoAiMBrwDTAugCjgNyA6oAhQFIAZUBOACUAuoAm/83At4BMALiAIUC7QJUArj/XAH6AAQANgAJAVACqQBYAmcCxQGVAPcBLQIPA0cCAgP4AlgAFQIOBIsETQMnBKkAYf/OADMCEQPAAYMBPgFbBOMFFgWFA0EEfgQkBIoD5QBwAvACMgKCAaMBxgIwAu4BqwS1BA8BiwOmBOQAGACxAVwBvv8DAHIBsAKgAksCegH8ABYB+gLMA48B4gEGA7oC1/9QAAgCkgDCAa4BKQKAAPcBfgVhAgcBNAKfA2sDdAQXBE4BbQCPAUUDawEXARUCwwFnApgBsQHLAn4C1QLPAvwDEAWMAloC7wKcA/ACMAJwAU4BZANXA4oFvwTTAuoBRgIxAi4CEwGZ/w0A5v8IApYBKv/QAJ4EMwNNAxcF1APdAHsAQQDxAM0DjAA/AXcCXAJ6AyAEhQREBMcFGwOFA88EKwNVATMB6AH3AGICbgO8AOUASQOmAjACogJBAWgB+ATiAnUC5QRtB0gGYQJeA8MEaAXCBMEE6QPQBdsJwAjABUMHCQq/Cz4LOAr1C14OLA+JDbYPfxCWEOwRNxFHEjoTJxSuEgQUohbUFcMVqBMzFQIVgRNBFNcSwRHqECoPyA2QDY8MmwsnC6kKcAlMCNkFXgQRBMYE6gNEASr/OwBDAP//DwEAAKz/7f53/n3/Rv5x/M/7BPqI+9v6kPpm+Vn7m/zW+oP+dP9t/rP9W/9AAOj+GQEWA28BTwDXAWAEjASqBYkE9gKUA+MGUgcVA4QDFwS/Bb4F5AZiCasIzQgMCe0KKApqCEoIVQdaCAQJTgpWCX4JaA0/DlgQPA//DWwNawxmDhELcwg8BvID2AGE/xP//f0i++X35/ak9yX3u/aF+Dr3pvex+KH8F/6a/Cn7jPuf/bD9bf7y/ooBQgC//kL90v4S/xf88fv9/GX9Kf5S/XP9mQB8AuQAyf2HAYsB5//F/xj/F/38+4n98vte/CX+0f3G/UABOwQ5A3MCfQFTAlYEJwTVArIBDQHR/Wv+3//r/gT/cv6b/xcA+v19/Hz8lvuC+Zb23vYt99H2cvaj9sj4ivom+2r5Cfvd/NL9c/2t/b799f2c/TX+kQB3AHgBsgHNApkC6QNWBPcCxANZBL0D0QIjAzgBvf9t/33/3f4B/xAAMwABA1kCwQCgAoEGqggOBk8FFwfOCXgKwwltCWMJJgqTCikIgwXUBocHpQWlAxYDeAFLAT0ASgIaAp7/IQHtAOECgALRApMBhANTB1QFSAJHAxoGggSDA7UCHgPOAnUCWgDL/xwCpQIDAar9Vvz++p37Pfvj+l38SfyZ+b75hvsb++77fvnf+T/6Uvuf/QP6N/oh+tz7Nv8PAVL/yPxx/08BfQNsArsDQAQkBQUIKgYRBRwEEgWTBQkFWAePBGYETQjQB8oFYwNbA58DuwN5ApEBkf/p/qMBtAIzAbABKAPaAgoCUwMzBGAE4gQnA4cGuwVwA14FfgesB34FKQauBXoF1wbiBogFQwTvAdj+rPwj/Wv/Tv4P/C/7jfzc/Fn8rf0H/1P/Fv/S/in9Bv6NAD4CFP8//pMBNwLTALkBJwNfAeAB5QDYAFwB8QEZAq//9v21/NP6Afqr+ij6Nfra+cD5JfoE+ff6gfhY9474CPga+TD2X/iK+P/3X/f+96f3h/dB+5n5QPkj+S36J/rr+b/5F/p7+fv3fve892b4AvmU96X1Xvj1+/T84/Zd9tH4uvi89of2G/a48zL4kPiQ9mf2RvkC+pb45vpg+1D7SvvP+qj6cfyi/hv9NP7T/c79If/V/U79Af97Aaf/xf7h/gj+oPod/af/2/wu+i36sP2V/R79k/vT+hf8hP52/dX7ovww/p3+4/xG/CH70vsy+3/7fvrZ+w7+5PzT+038zP0y/ZX8wfoh+9L6xve894b4N/md+3X6sPvh+qb84v6T/T79Qfvl+2X8b/xt+lf71PwS/kP/Zv6a/jQAnv+h/0D/Sf4U/bj7PPy2+6f8Gv2z/9v+d/0L//r/zv+n/6IC3AGEAK0A6ADeACoA3QBV/x8AyQNzA/D/Rv4yAbkBmgAeAQQB+v7I/zAC+wCe/gH+yf9d/zj+Bv9hAA0AU/+EACABKP/dAOACxACx/0r/JP7m/pICPgLl/64AHQL5AYEAVgFoABD/HQDNAP//0P50APb/3f9OAL//pwENAjcAkv/P/f796gCW/2D8K/2V/W/98P8PAHf/dwCE/yH/1f9d/8L/FAAFAOb9hfzW/an+O/3t/kICnQHu/+f/EgBS/qT/nf55+7D7s/wp/XP71vht+S/9G/2E+w77Vfuf/KH+lv3c+hv8Ifyv/If7xvtX/nH8E/tH+6n7Hf15/rj9rPyM/Hf+xP+S+1z6MvxS+rr4lfru/Nn7pfr8+jf6ivq2/LP7z/qx+pH9G/4J+lX73fxj/Fz6pPsj+zv5cfof++D8Ivuf+6n8d/0p/Sb8RPvh+Kr8MPwZ+Nv2M/nb/FD7bfmo+ST7IfsO/D77t/fl9r34qPiU+Hj5evmb+eH42vtu+/n6Nfrl+oz79vsX/Qr7HfvE+Q38wvou+1r8Wvqy+/T6Nv3o/Hr6F/yW/ff7x/pu/N37FfxW+4f7+/vb/J395PuT/A39Av53/Pn6wfrX/Hz/5f5T/Rn8Af34/lb/zPyj/Fv+0f61/uz+1v/Q/nz9pPzg/fv9/v0a//j9jv+YAAYBEv/r/n7/5P72/sz+Cf+V/db+9v9y/z/9FQAWA/wBvv/e/00Buf/E/87/0P+s//ACoQGE/6H/zgGNAjQAEAOyAUUAZQB3AbwCBAM9AXgBgwPNAowCIAJdA3QCEAEtAIsA0wGhAr0C8wK3A24DpAR+BJACIQBaAQoCFAFBAg8CLQE3AV0FNAb+BJkECAPmA1cE7ALZApAEjwM4BOEGCwaBBAgGJQe9B7cFtAOiA1oEvwa/BOAD+gTvBSEFfwWqBCsE0QSfBEoF0gSZBocGlgWnBCMHOQfhBK4D+QMIBhAE/gBJAUgDiQNqBMkCKALfAdcFPAVuAtoEoAK9ArsBbQJEAS4A1QCIAvMDGQERAVgBWACAAMD/qf5o/uD/MQE9/kH9efzw/wv+PvuG/LP95f91AHYBWADTAPUAvQJsAfwAKQCrANsAYwFfAvgCUwXeBVcH6wb5CUwLHwk2BnAHJwmGB2MHBwaQBTAHFQiJB3EGJAY9CLEIYgVBBFgD3QSjA7oCUQOVA5AEMwEqAvEAaQGtAT0BNQFh/ib+7f7O/qj9Df4b/xr/dP6+/fT7dPs4/YX9/PtD/FL7tvtH+x36wfrj+e/5i/i397j5yPpY+zz6E/tZ+s/5Xv02/Zz/b/51/Zv/nv6O/f79JQE6AW8B0gKrBD0E/gVsB9oB+QMlCXsLuQucC44MZQz4D7kQnw90DbsLhAkzBY0CHv19/A/99frz+cP5CPpd++v8Nf78AK4FcAheCQILOwrkBvoBNwFd/2T7pPe09mD4SfwXAOD9lP3qAWoFGgX4Ay4EkAShBXMEBgB++674JPZa9GP5lv2d/xoC5wb9DOsRjBeAGoYY+ROED2YH+gFM/Fv26vEG8DzxNu6g7wXysfap/PIBTwqHDxoTxRLUEWASzQ6rCLAF6AE0/nj7Jfkx93b3Dfqk/Jf9fQF5BvwE/wSuBMUEAwSyAlwB6wHyA9YD6QHt/dv5aff7+Rn/3gAYAj8E2wYABXD9ifa59RH7Dv0e/kMA1gWVC0ISCRp1H3cjXyQbIEcX+w/iB1n+pfZT8s7u1+zl7fDrK+rW8AX5BvwN/nkFCgu/DGoL5gcCBRgDaQEQ/iX9U/2q/vT8jfzz/Pz+GgMRB4sK+Q7dER8QFg4sCQ8IDAmbB6QAePta+p75Ifn89b/xvu6c7xzzGv0MBXQH2gkPEccXmx24JKkmUCNWGdoNnP7V8zbsoOWC4ajf9N9d32LinOW57lD6xARoD6EUFBVzEa0KXwGe+B3yN+yy7Ans9+mT59DoF/Fd+XoC+AlmC38J2wjhB6gLwA5uD3cKswSt/+T5CPf99BXztvC79X39xwAl/GrysevF7+z5pACXBO4GUghPDZUY8COtKZoqECUXFvcDSfes7EHj5t0A3pjgseE55OnlU+3v+n0IgRGeFiEZYxe5DbD+0PVm7aDm6OYx57TlBuhq7yb4UQSSEzwe2SIUImscCxQVCr8GzwmBDWAJGv0s9FvwFfMH9VX2YPr0/7AIHAxjBFX1Lep95s7sJ/gA/QD/Cv80BBcR5CP6NKk8+DbHITkL4/dr6irivts32XHWRdXL2PHeJ+rt98oJnRi2HjodshHlBCH5AvHV5zzhC95A2Szdv+Gm7Fv6HwlVFzweHiC2GlIW+Q/GEGMRTw2rBur9qfox+iz+z/8N/t//JgSFDMUPwQbX+ljwOvGp+YL+9wGoBlUI4ggeFosuRUHOPj8tuxay/QftfuH43L7X1M8cyY/G5tjm6hf1TwF7EHQltiq0Ij0TwgPx9gLryuFt3kzfMNW311vjcPa7/y4GAhV2H/QhvBrIF0UJ2QGIDVoWiwom+mUAQRNiER4DYgXcC/QKwxGoFjsAROup4yTmS+jp7TwIjxG6CecNuiPlPLJIH0VPMG8VAPT82XLImL8rxIXFlMzD1I/f2fA+A9IPeB1WK/Am0QpU8lfkWNJSy4jEl8BxxzLYLOm2+m8NCSDkKswfIBq2GBEPrv0h7qPppPJwA2oN0wmsBUoONxL4E5gSphSeFPYLsgrL/qfn89N20TzpcwXoGngfmBI+FR8skklHV0pMCi7sAMXYFMLwwmLKdca5xuLUzeY19tcFzRaUJBUpOCHqD+f28N4OzXbF/8OMxgfIbstg4KT6eBXvIcYhlhkyDYkIoAjuArbxaN7L2jfyUwwpFr4VrBoAHEAdbBpjEbgLRv+/+XXyT+Xu13zR9doJ8RsSYSaEJsYgxSIhMtBFM1MfR8AcT+yfyBa7g8HEzovcbOPQ5s3uGf4GFJYfUyNVH8MRzAC16ofWrcxz0IzUOc6ezvvfdPcNEHMexR4lFOAIlAh8CTQEe/X55ATl7/c2EOgYxBZVFxIYdxPBDUsL2QisBNr8qvdM66PX7c4l3Mz3yQtyFb8X1BNXEYUgZUAfU5FByhLh6HDNFsLmxRnQZttV4FXj0PFSCR4cjSPXIc8bgAxO/JHuUuap3svXCdVI1VDdfuu9ACsVLRy5FJUIcQI4A+r+h/uC9JvpjeKW8FMUTyavHUQSxBceFosQ3REvDnED+PRQ9xn9LPUN6nHowvHUAkYSOxwCHcEQOA/dIxBDI0QKIgb/ouC9xxe/scvi2lPekuKN8G78UAXcDiwZ/hR6BZD3u+kA4QLbKNz23anc6d6i5jb3iQl1EvoNuwBK98Dz+PQc95j3jvEI7RkClx9dJekVpw9oDw4C4ACnDGwKsvyu+KsJVARo6m3oCfSU/sUKzyC1JJgSAge0Gio/Wk+9Q9khfPTVyd28uM3T4ovjRuGB67T+VxTxKY4xnSHrCuj5Z/Mx8LzxdewO4ezXkNlj6Kr6ygfZCTkCP/A540LmoO1o6bnghN6x21PpRw3MJ1IggAnLCoILsALuDsMZzgtA+joGNRraBM7rDfK9+gEBmRPrIcsJVe9X/2wjwjohPXksvv9rzgK4YbfDvY/Cjcaey8jYavI9FU4ixxAC+pjp/uT35zLvFut53m3aSuAz7QcAZhiqKEwlSxYSC0oLeBIIFKwP6Qn5ARoFJCmISqVBUChuIEkldhxBJkcxCBtAC7ENQB+bEvz80/5Z9IrztBSNNGUi3/+FAl0c9jrSUopFZxJJ26zDS70WvEfCuMOOwIvIcu12EgocvAwo8PXZC9do5Gbw+Oje1XDL3dHT26DskP1SBEsBbvsx92fvUPEM9sHwfuXW5GXssAvzKBQd0f/D+7oLxAZND4EWZwDx8d8FniLgDM3noOJz5bj44Si7P70g/ANYEr04dWT/f4heZxVp5zrlPfA87+bmNNH2xXHnECBgPlMw0w9w7wjiKvMtDNwHHuiaz4DNWt1g8/n9GvQh6sTwf/03/FX2qe5C7drr0Or97PD2MBC8Dy0C8fhDDXMXtwl9DiYCePQMAa8h3yDk60fRw9ob7FIP1i0rHkX1DPs1KlZSs20bXRUccujs58z73/Wt4ALNQsTP2DMSOzzSMw0ZtANd/gEGNhiQEbnuy9+Y7Sj9kPs1+Uf49vquD60hRhezAZP3sPvUBWwMdQSj/dIQ5hSyA8UA5xlpHo0NVxksERj/2A4XL0kmMuja0W/n0/grHCw2EBaJ5dzyRi9hWvdpXUzEAjXZVexjA4DtP8LYqNuvgNsJBTwQK/mQ41vvywNVD/8DKuVhzjHV5vG0AKLuB9dD0ybsEBTTJRITavXh82UJIB4RHu4JNvd4DMgxgysLDJr91xdSIyIl0i3QEDkDRB4/PtkuxPZn7Ej/hRF3MAgveAUg6VYKjEUKYq9j6jstDB8EfhBsBW/Ygrcdt6nUDvr0B2n7EO2N92QN2hZbCtHuo9gK1erefeXb4XbXCdZx4r/2wgmoCjP7dPDk+vkGOwWJAGz6pPziHx4zxwvk5oEE0iw+F4YG3QTw99EQajpoOmT7kdB++LIWvB0xKNcQru4v/2c62lUnTm5FUCwuHMggPxFQ5WvF4MxM3L7pAPs4/E73RgPPE20PEwM5B4/96eOS2kbfMN7423DiZOPg41rzhQRJ/wz6cv0I/Mb3j/x3Axb/OPS7+7IYChSC9ZnwExikHoT4l/ET7zn07hBJH/gG8Nh34D8MEgdg/QIBWvVX9rwMMSdjL0o4ljqrIk0Tewuo9lDaaMd2x8zJWdpF8+H1PPmwAEkJ4xOGF+sQOPXr3Avhu+Yd5kDhz9u+3vjr/gpXFqQI6f+B/msIrhDkEFYFTfcM94EFQyRqIeP8ifWdJI86Rwd68e38PQAWEHcbyxF77MHlpw5BD2n8ff5wBZUFdAvMJFcvCTGvNAEpxBj7DZP7vtyzwf2+esqT2Kjd29lj61cCHRASD+//ePba7yDs/uZb2mTRzMwqzPnYAeq69w//m/v4+BYErRRRELL5lPJT/Jj/5fRy7oIC0gsMBS8KmSApHmL8hgaFDH/+2/59BCoDQOfp57r+tvjg+/YRbxTZBfsJIyPML/c0vTFiGEYHSQkb+07d6MqGy5DMpc3Y3ZrsdvpmAQUB8P9WAdMHyQEN7PHcUdrT18nWaNVQ1vnggPfHBh8GVgujGMUWCQhTBRAMRgMj76HjTvAeGrQZY/UH9p4mlTxTDE8B7A1TAvQA0QBf+bjbVth6/s7/mvhwBzYM9QcZDxYppzBJKMwhsBZjE9MMEO/2zEzD49Oa2fPL5dJH5Tvye/Ey8UX9igOKBtj4/eVC5IftEeXfyqLDbtJZ49jvN/cw9Yn/mBUmH6YQtf2TAS0ICf4X623pdAAb/ubr2vvmJzU0xQaC/CsQGRMRCl73Ce/C3xbgfvRF8zfpBPIEBuIL7wudHAYokyocLigkZBMUAQ7wE+KO09nQwc7ZzEzWptvA3ebnpf0iCCgCb/+N/X/8R/te9KbkV9Qb0yfe3ea666rvxfkmB7IFlQZoDfETXxNYDaIHK/hB9SIFwQrb98HstgoULO0RNPWtCJgYqg4F/skCVQCs6w3tlvWp8PTy//2y/nX3FgswKNsqBifmH4gYxBOEDoH90eam4C3ej9CzyAPP9taZ2RbfTuej7Jr68AgNCyMBav0s/OT3jvS97P7me+P+6GPmG99u7K38dQI7BVARgBm1G3MYhg48BbEEMBF4BYvyUPcnCS4Jevw/CjYLzPzlBfkXNRnL+kjpU/1PBW76bfFL9EgAmgoaDHwMzRe5HiodMBraFQUMLgHz9YHsfuHS1JPNdciYzkHaiN9K4fnk6fA+/1AIsQy2CvAJCwQP/tX5LOzC4S3cLeGR6Mfr6/Un/poG9xFSGzYgyRYcDS4QYxgMFf0Affu7DDEN+vR79BcKcAlt+y3/fwXi/+r9+AZ/Bdb6pAMSDKwHP/+B/IgFNxWFG0wMJwlSGT8fVxEd/Tj5mfl/76LhqtZY1wjXvdFA1Szj7vNL9872+wFJDpEPIwUo/4v9dPa99b33gvTs7SXxr/w9/msAggfuDuoM9QnOElUdDhtaEHkR2hUAFNEVyBczB8H4NP8u/xvy+fPKAZwDOPno+iYJKgl+CQ0GyP12/+sFeweSAoEG+gtnEfAYcRdODIkKlQlH+0/r2unW6lzhmNkF2v7oJPJU7uXnne7J++36Aveo+p4BTQJc/y7+FgKiB+cIzAFN/cgAFgeICUoGewlCDcARvROKFSsZSxz0HpoYwBJRE7YTwQVr/YkGKQltAnH7xwChBtMErgTGAET7pAAlCFsDKfmD+ZMJLhlFG4MQUhBBHSMefRTZDbsOFAiP+9r2NvQa8RfokuFi4Yjg+OMz5t/rt/E983L6MQM7CmUN4Aw+DZEM6woXC64LzgWcAQEOeRd5FLoMNRH0HQoeGRheEBQSNxZzE9YKwQKiByUONAvm/74C5Q+HBywAhAAfBgUGhPua/ov9pv/IAeX9ifyD/toG4wqVEIgUJRRbGkofhB8IGlMS4w/pCGsAvfhY8/PsY+Rj4QHizeFZ4qLrcfJd8gz3UgBWBasDzf7MALwMHRQzEEMOpBeaHQEcghzUICshBByHFvQUOxIACKAGOQgUBpwCmATMC+4L5ApdCigKQwghCxcJ+AE4APMAEgP8/OL4OPub/tEAsgB1BfoJ9AraCswMQxY0G8AV4BJuGewcRxTeDEALQgtTBBP9A/oh9Aj0NvN07wvtw+ya68fqNe9F9Tz70fmD+30GQBDwFaAXERu7JHwshiUTHKAcbRwvF0sNEwiDCuUGWwCB/3gFRgjvBcIF6QSWCdYL5gUgAXUAMwCT/gsBUP9l+639AwKEBCoC4gAHAXwFkgyRCB8DWAExBz0LFgp3CI4DVANsBZkLcg19C6wGNQOLBpsJPgeJ/8L7+vsi/NX3G/Km85v5fv1t/ez+1QXTClkLDwvtEWEXhhXwD7EPzBSkE90TAhIZEUATGBQxEVUMiA1zC84H/gRMAcMBPAB5/hT9Qfxu/xz/p/34/fD/jwKYA/8CpQLBBCwHlgYFBfcDvgKcAG0CrwUXApD8kPugAlUFAwU+BAIEBQf3B10HfgEwAQADRgRKBgUCNf+n/OMAPgPOAJ//fwJCCOsGRgX/AyIJLQ1lD4QM4gnZDOcMiAvjCQ0MsQtUBYABtARTBj0IMgTE/yoAbwPSAjv+j/1D/n/9QPsu/FD8Iv5n/Qn9Z/9TAx4EQwLFAYcCDANkAi8BPP9cARUDeAHJ/Eb+sQH+AfgC6AD/AMEC/gMLATP89P7GA5EBEP7f/TL+4v7L/wAC5v/p/x0FbwmlBygFggZ9CPYKAQfWAwEEUgU2Bo0CBAGHBLsEOQHP/7n/Pf6o/EP8wPuk+in6k/ro91v0X/Vs+fL5IPpQ+Qr3/Pm7/gL/Dfus+nb7dv0L/sz6BfiQ+a780/z5+4L7tv+4Acf+s/vr+/j+BgG//YL5Z/zI/yf/cv2M+wD9gwA6APn7D/vN/Yv/TQHiAH3+9/4fA1cCywAFAOL/9QDh/kr8W/lO/OAACwAk/TX9Cv0P+2X60fik+Hj4HfYF9ar19vSy9P32hvcI95H4Vvi++Ov5G/qR+R72UfWN+ZX8qvhh9Mr7cABU+0f6Ov1n+4r4yPtt/Hj6PPol/Cr6LvpE/v7/Qv30+db7yPzt/Zb7mvqt+uH5Ufwc/pv8Efnp90n4PvmX+NT3kfif/fn8zPh/+Tr9wABl/a37Qft8/Ij4pfaj+D37lvt3+WH2pfAI81/zGfUi9GL12/di9urwlPDm86/3O/3A+W/2wvLZ9Lv0H/jm+rH4M/ct+Bv5tfRk9CP0lvX/9BH07fWl+BH7uPd+9mb8OgFXAo3+zftL+vr6Ffn683z1lvnT+v74Y/kY+n/7W/r6+Az3Xvgj+sX5zPwD+zr6Ofr/+6L7hf6nAiL+m/nc90767Pok+1n5ufYv9pr45/nB9xT1PvLm8zL3+PZK8/DuL++z8uD04/QH81v2Hvn69tj0qfWl86j03fdB97H0nfP592H5NvpI+FH2yfS99uv4mvg59+P14fhF+Ur5i/e69zb5Bfgl97j3SflM+Oz3fva19PP3VvvX+yj5Y/is+hz7OPqt+Jr4GPlo+gD80fw+/nD9DP6w/jT7aPob/SX8mvlC+Rj7rvjV9EX1qvMn9M73Uvl29bPz+vZI/Pn7E/hk+cb6e/uB+u/6PfhK+jP9Pflg9nX5Tf/m/Fr6kPdE95f5/vkD+J34XfhM+1X8B/f7+Zv9GwEr+e31rP5aAR8AI/p/+nn6z/gM/q4BV/wo+er8P/xb/Mr9sf7L/g78i/rP/WYBl/6o+O75wv1V/kP/EP2e+a35pfqs/PL9yfwT+FP0JvQZ9Xf44/r9/D7+BADf/+H/gAEbAqUCJAD4//z97/nH+q7+bv/Q+478lf8IAckAWv+J/BD8Rfx1+3T71/xc+z37Ov4g/Tf+0P8CAqcAeP4W/zv9jv2N/JD5dPth/wECYwB8/wIDGwNlAjH/YP31/GD+af7D/PL9hvyh/+z7CvgF+jj+9f2S+mj+HgHGAQgBMwBZ/toBkANMAlH/ufwP/zgAEP66+zv/9f59/fIAWAd4Bv0AowBzAs8DigL6AGr/7P5Z/iD/qf4B/oP+w/xK/H39ZP2D+xf6kPtl//gA0wDjAHQCAgORBJ0GRwR4AGsAfAD2/YD7TvlT/HP9hv1X/Nf+9wIEAAoA4v/SAWYCJ/+e/5H/k/+j/pr++f6c/X//OwKAAnsACQCcAQcC/AK6A+cBZQKWAX8CHwOLAT0BvgA9AUQAjf1n/GoBsgI1/1z+FgPxBb0EKwS7AKr/cQC9/4z/g/8OAoEClQHaASoCWwU1A84AoQH2A28D6P6tACYCowHmAMUEaQX0AtsD0QAIAD4BRAAM/kz+Rf9k/7YA4/+PAR0FBQWmBB8EpgRTAoQCrAJXApgB/P4hAYUCDwLn/ywAUQAYArMB5QFFBOYEXAKC/ysGLQbhBGEDSQI1AvUAZAN2/9AACgOaA34C5QLJBCoCLQMEA2EG+QXjA9wD6ASCA9gCaAVuA/EDzAb3BWcDqQUOBrQGcgPeBaUGIgS9BDIBuQZCBnYEqQQ6BFsFewYkCN8EXQRABAEFVgLZBBcGdwI8AdAC/Aa1A2UEeQNmBD0ImAlHBYwFUgUrBugHIAQcBuIA9AS/BJQFJgPhAG4HPAX+Bj4HkAZtBCwHcwQZBAADEQWIBfsA4QLhAdsHjQTXBSEFGAW7Ca0FBwUuBEYE4Ab0ByoFfgSaBtsHpQUNBl4HeQSyBVsJpgRrAjoG4gXfAu4E0QbzBNoCswG0BekG6AStArwCsATdBcIHRAeuBZ0FSQaNBBwFGgXCBAEFQgSwBZMFawc+BhwHnQeMB4wIhQO/AwUG9whUBiYCfwJWBX4DRQJQBpMCRwRRBCIGQQXwARsFSwLWAcUCAwXFBIUBiwNCBBwFnQKTAsAG8gV8BUcEbgMBBsEHIgSOBHoDBwNKAoQBsASmAHf/NwTiA4MD1AIIAy0FegKiA/QDcgWvA20BxwNsAXID1gUlBV8FTALMAfkEjAb3Be4E7QQ1BHAFWwQbBB4FUQCfAY4ChgBkAnYDlQIvAKEDrQW/BBgBsAFvBWYEaAJfA3MFiQK/A5kD6wSeBN4CkgJeAmkGtwV2AT//sgJiBKYEowOMAy4C4ACwAvsBWAPRAJUAgADSAjkFnQJ9A6EEOwaJBHADeQXLBAUCsASsBsQEeAY7BaMDngOBA5UHGAZ/BL8BYwLcBBEEcQa+AJkC3ATiA2sDXANoA/QB8AStBFECMANQBqAG4QXqAgoE/gVPBgUE4QJlBpcFjgPMBEEG1gbVBdoDLQf9B/ED8P/5/8oD6gJUAq8C0AHyA1QGsQQqATMEVAW7AncDLAO2BZEFlAPQBBQENAQTBukGOQPABN0HFweQBpIE6gUMBjgGYAYNBIgCyQN0A3sCvAMxBEkEjwJXA2oEGAVtBPYDNgRJBXwGnQQYAooEGwf6BLcE+gSJBPEDVgcPCG4GTASiBF0F5AQABHIE5QV6A0cF3AXZBAsEzALjArYCLAJ6Ak4CfACYAZECBwLgA4sBfwFVA0EEVAWUAw0CKwNBBswErQVBBQwE3gRMA5MBGQNEA3ABPgLhA10F7gJSAtAERQh8A4r/2f4I//EC9P/qAvcAtf+KAhoEPATD/iMA5QCwAo4DhwFjADYCYQXcA5UD3AM+A6UB1gAcAqAB+v91/soCFAQIA3gAvP8oBAEBnP7EABsBzwBfAEL+HQBkAez/4AHPATH/cv9jAKQCFwAL/7ICXgMlAcn/owLdAWQC4f9S/s7/fwL7AIkAtAJ8AGwAMAGSAcz+TP/n/Ez8lf1hALUAD/+kACIBbwBJAGEDkQJnAdkAJ/38/EkBqwF5AID/nACGAeYBXQEYAYwBWv7y/98AdP/D/mT9xv8R/4v9U/9t/x0AEADB/+f/PABxAb//YP06/oIAFP/Q/2T/S/2R/zgAhAEIAN/+kQH0AFj+mP+5AU/+k/3l/gX/yP3F/BP8C/w//Sv9e/7a/Sz/QPvB+ur89f5ZASz99/yZ/K774vzVAVABE/5a/YP/PQAm/XX+Mf7F/vL+kf8r/2j+4v83/KT6Jf46/w396/u7/J3+GP5E/Lb7j/xz/tH9mP6L/I76Zf46/5z72/sL/hD9Nf5M/ZP6zvtS/ID6cvtF++r6s/pC+xP7u/wV/cD7E/qR+e77wPig+M35TPuH+U36iPvk+0H8Zf1j/L/76v25/KL6p/hT/KX5sfmv+EX6Yvwd/Cb8Sfrb+kz6vvuJ+tj7Lvt5+m33Q/iI/Of9lP1P+UX40Pt2/dD7M/tr+fD5PfoS/L37+/rC+pL5e/pB+Az3Pfcc+Wn7Qvhm93j5hvnX+MP54/hP9u74qvky9u73c/xV+gn47fcs+ff4o/hJ94/2X/c5+Q368vQ09Sr3gfgP+J723fcI9a70pvVc9p/2xfWp94X4l/kY95z22fV39x729/JJ9w77GfkC8732Mvkb9l71U/f69eb0h/VI9pP37/eo95X3efea+FX7FPik9e728/ko9mvyX/N/9Br2+fb7+ID3H/ii+nz5H/UV9/v4Iff69sD0xvTh9uj4tvZV9GX1k/d29yv2bPTK9uT5c/gp+A/48vg7+Wz2+fOI9H72KPUI8qTz9vTR9nj3P/cg+Hj6P/jU97X4Gvbs9gb25PTX8ZD1gPco98f2mPWq+Ez5/fjO93L3B/Um9L72bvaQ9XX0KPba+Bf5ivWb87j2h/aU+Xr5wvjS9972CfjM99f4qvbB9tX1YfeG+GX2H/Vw9Jr1Rvic9rr0/vY3+E74Mfil+Zz3FPmq+Bb3tPdj+ND3uPTC9fb2SveW9sz3offz96n42fjR+Rv3Dvg2+Rr4kPeL9qL1nfR09Uf2HvVW9J71tPa6+Nv51PoZ+o34jvkj+jL6f/hy+J/1dPVA98b1E/ci+Pf4yfdw+QX8Gfsb+cL5lPqq+IT5lff49Qf2Z/hp+Fv2f/e++UD8nPhW+qr7Ofq1+Yj5p/nD9zj5ivdV+PP6vvzi+un2NPoW/fv6dPkv+a76F/sl+gX6nvnD+x/8OPul+JD5MPwY+6r5jffe+pH8GPpK+cH5Svte+5L6jPl7+Ez5Vfs1+1f6z/uk/Kb7v/yT/bH70/vE/Hf8CvzT+ZX6avvZ+p78GP5N/VT98f0b/wT/HPxU/nj+bf29/GH8Uvy6++j8u/v1+6r8aP3+/rb8BP2b/7QABP/B+hX9ofxz/Lf9v/zf+7X8Mv86/Fj+rwHZ/w782v5qA+UAXv9x/bT8yvyi/nH+Y/zq/UL+Cv/X/qL+MP8+/5IABQGG/6391v1b/8v+7/2V/+H/aP8C/1oA3AB+AjQCRQDc/6v/8AHfAUkD8gDi/z4BnwD/AIv/XADpATMCBwEUAS4C4QDLATgDTQLsACYCswNUAlUCBwIJAdgAEQNLAgYADABX/loAgAPPApcBUQI1ApIDjAOkAisC2wIFBeYDiAJVAj0GQQXdA1QECgLfAA0CxwRlBSsEeQP7AzoDSwffBmIECQOhA8AGGgVNBJ0CrgIJBK4GvgZ/BjgGaAbMB44HPgdOBWMFUwWsBe8DigS0B5QItwf4BmAJbQgyBl8H0AauBfwF+QX3BFkFOAdICFUJwwi4B0AFdAXMBi4HvQfPBmAGMAetCXkKKgi2BQ0HYQcYBdUDywTJBwILegnsB5kIpwjOCbsIpAkrCi0JaweUBlEHyAjLCYcHAwiWC7sMKwsYCNYGgwh0CQkLrgi+BjkG4AcpCagI/wkKCLsHvgnnDIAKngmICckIIAoHCQ0HIge/CukL1wv/CiEJCgjLCcIJBAoTCYcIIQbwB1kLOQpfCiQHiwf7B34LmwvECboK1wkwCqQKkwuLCtkLpguMCpQLvAu4CsoHZQmbC8UKFwrJCDQJHQv6DEUKDAi5CeMJJAoXCnIJdAmHCYwJoAneCbsL3QvtC80LyQoDCxEK6AlICSUIigeNCQIKcwZNB/IJmwtVCtwIygr3CqIMsQoKCIUJEwmaCUoJeAkJChoOsg0JCugLPA2XDUgM0gzpCg0LxwssC2EMwAyzDPILHwzEDMsMKQw+C4cKSQypC/QKYwpVDY0OUwrACeUJEQxkDIwMGQu2C5ENbgkoChYLqwpPDNMLWwk2CEgLUAwOCgIJIwl3CvYKXAp8Ct0KxwpWCUkICwnUCDQJOAq7B0IHCAoYDDQMfQm4B5wI1wnlChsIqwdtCFUGHwjyCH4K2wvyC+cJSQphDbIM2QlYCMoKZQsfCokK9wkhCU4KSgtNDCkNJw00CVYKNQxRDO0KLQmPCW4Ipgq2CdUJ\" type=\"audio/wav\" />\n",
       "                    Your browser does not support the audio element.\n",
       "                </audio>\n",
       "              "
      ],
      "text/plain": [
       "<IPython.lib.display.Audio object>"
      ]
     },
     "execution_count": 10,
     "metadata": {},
     "output_type": "execute_result"
    }
   ],
   "source": [
    "rand = random.randint(0, len(speech_data['wav_vals']))\n",
    "print(f\"rand num : {rand}\")\n",
    "\n",
    "sr = 8000\n",
    "data = speech_data['wav_vals'][rand]\n",
    "print(f\"Wave data shape : {data.shape}\")\n",
    "print(f\"label : {speech_data['label_vals'][rand]}\")\n",
    "\n",
    "ipd.Audio(data, rate=sr)"
   ]
  },
  {
   "cell_type": "markdown",
   "metadata": {},
   "source": [
    "##### 1.1 Text라벨 index 변환"
   ]
  },
  {
   "cell_type": "code",
   "execution_count": 11,
   "metadata": {},
   "outputs": [
    {
     "data": {
      "text/plain": [
       "{'yes': 0,\n",
       " 'no': 1,\n",
       " 'up': 2,\n",
       " 'down': 3,\n",
       " 'left': 4,\n",
       " 'right': 5,\n",
       " 'on': 6,\n",
       " 'off': 7,\n",
       " 'stop': 8,\n",
       " 'go': 9,\n",
       " 'unknown': 10,\n",
       " 'silence': 11}"
      ]
     },
     "execution_count": 11,
     "metadata": {},
     "output_type": "execute_result"
    }
   ],
   "source": [
    "target_list = ['yes', 'no', 'up', 'down', 'left', 'right', 'on', 'off', 'stop', 'go']\n",
    "\n",
    "label_value = target_list\n",
    "label_value.append('unknown')\n",
    "label_value.append('silence')\n",
    "\n",
    "new_label_value = dict()\n",
    "for i, l in enumerate(label_value):\n",
    "    new_label_value[l] = i\n",
    "label_value = new_label_value\n",
    "label_value"
   ]
  },
  {
   "cell_type": "code",
   "execution_count": 12,
   "metadata": {},
   "outputs": [
    {
     "data": {
      "text/plain": [
       "array([ 3,  3,  3, ..., 11, 11, 11])"
      ]
     },
     "execution_count": 12,
     "metadata": {},
     "output_type": "execute_result"
    }
   ],
   "source": [
    "temp = []\n",
    "for v in speech_data['label_vals']:\n",
    "    temp.append(label_value[v[0]])\n",
    "label_data = np.array(temp)\n",
    "label_data"
   ]
  },
  {
   "cell_type": "markdown",
   "metadata": {},
   "source": [
    "##### 1.2 Train, Test 데이터 분리 "
   ]
  },
  {
   "cell_type": "code",
   "execution_count": 13,
   "metadata": {},
   "outputs": [
    {
     "name": "stdout",
     "output_type": "stream",
     "text": [
      "[[ 2.77239154e-03  4.09618625e-03  5.18471526e-04 ...  5.59138041e-03\n",
      "   4.88450006e-03  2.75988481e-04]\n",
      " [ 1.62114497e-06  6.37076228e-05  6.00096719e-05 ... -4.29184620e-05\n",
      "  -2.31448175e-05 -5.90954405e-05]\n",
      " [ 1.09322171e-03 -2.54688542e-02 -2.63706576e-02 ... -3.85202393e-02\n",
      "  -1.74130350e-02 -2.87703617e-04]\n",
      " ...\n",
      " [ 5.15986503e-05  5.42790731e-05  1.02632795e-04 ...  1.66367507e-04\n",
      "   2.13557083e-04  5.13330742e-04]\n",
      " [-1.52121310e-03 -2.75197555e-03 -1.75987347e-03 ...  1.05423278e-05\n",
      "   7.66451703e-04  4.39998042e-03]\n",
      " [-3.97004187e-05 -9.57296379e-06  1.66761515e-06 ...  1.60088879e-04\n",
      "   1.28369953e-04  1.55493704e-04]]\n"
     ]
    }
   ],
   "source": [
    "sr = 8000\n",
    "\n",
    "train_wav, test_wav, train_label, test_label = train_test_split(speech_data['wav_vals'], label_data, test_size=0.1, shuffle=True)\n",
    "\n",
    "print(train_wav)\n"
   ]
  },
  {
   "cell_type": "code",
   "execution_count": 14,
   "metadata": {},
   "outputs": [
    {
     "data": {
      "text/plain": [
       "array([[ 2.77239154e-03,  4.09618625e-03,  5.18471526e-04, ...,\n",
       "         5.59138041e-03,  4.88450006e-03,  2.75988481e-04],\n",
       "       [ 1.62114497e-06,  6.37076228e-05,  6.00096719e-05, ...,\n",
       "        -4.29184620e-05, -2.31448175e-05, -5.90954405e-05],\n",
       "       [ 1.09322171e-03, -2.54688542e-02, -2.63706576e-02, ...,\n",
       "        -3.85202393e-02, -1.74130350e-02, -2.87703617e-04],\n",
       "       ...,\n",
       "       [ 5.15986503e-05,  5.42790731e-05,  1.02632795e-04, ...,\n",
       "         1.66367507e-04,  2.13557083e-04,  5.13330742e-04],\n",
       "       [-1.52121310e-03, -2.75197555e-03, -1.75987347e-03, ...,\n",
       "         1.05423278e-05,  7.66451703e-04,  4.39998042e-03],\n",
       "       [-3.97004187e-05, -9.57296379e-06,  1.66761515e-06, ...,\n",
       "         1.60088879e-04,  1.28369953e-04,  1.55493704e-04]], dtype=float32)"
      ]
     },
     "execution_count": 14,
     "metadata": {},
     "output_type": "execute_result"
    }
   ],
   "source": [
    "train_wav"
   ]
  },
  {
   "cell_type": "code",
   "execution_count": 15,
   "metadata": {},
   "outputs": [
    {
     "name": "stdout",
     "output_type": "stream",
     "text": [
      "train data : (45558, 8000)\n",
      "train label : (45558,)\n",
      "test data : (5062, 8000)\n",
      "test label : (5062,)\n"
     ]
    }
   ],
   "source": [
    "print(f\"train data : {train_wav.shape}\")\n",
    "print(f\"train label : {train_label.shape}\")\n",
    "print(f\"test data : {test_wav.shape}\")\n",
    "print(f\"test label : {test_label.shape}\")\n"
   ]
  },
  {
   "cell_type": "code",
   "execution_count": 16,
   "metadata": {},
   "outputs": [
    {
     "data": {
      "text/plain": [
       "'/home/aiffel/aiffel/speech_recognition/models/wav'"
      ]
     },
     "execution_count": 16,
     "metadata": {},
     "output_type": "execute_result"
    }
   ],
   "source": [
    "batch_size = 128\n",
    "max_epochs = 10\n",
    "\n",
    "checkpoint_dir = os.getenv(\"HOME\") + \"/aiffel/speech_recognition/models/wav\"\n",
    "\n",
    "checkpoint_dir"
   ]
  },
  {
   "cell_type": "code",
   "execution_count": 17,
   "metadata": {},
   "outputs": [],
   "source": [
    "def one_hot_label(wav, label):\n",
    "    label = tf.one_hot(label, depth = 12)\n",
    "    return wav, label"
   ]
  },
  {
   "cell_type": "code",
   "execution_count": 18,
   "metadata": {},
   "outputs": [],
   "source": [
    "def wav2spec(wav, fft_size=258):\n",
    "    D = np.abs(librosa.stft(wav, n_fft=fft_size))\n",
    "    D = np.expand_dims(D, axis = -1)\n",
    "    return D"
   ]
  },
  {
   "cell_type": "markdown",
   "metadata": {},
   "source": [
    "##### 1.3 Spectrogram 변환"
   ]
  },
  {
   "cell_type": "code",
   "execution_count": 19,
   "metadata": {},
   "outputs": [],
   "source": [
    "train_spec = []\n",
    "test_spec = []\n",
    "for train in train_wav:\n",
    "    train_spec.append(wav2spec(train))\n",
    "    \n",
    "for test in test_wav:\n",
    "    test_spec.append(wav2spec(test))"
   ]
  },
  {
   "cell_type": "code",
   "execution_count": 20,
   "metadata": {},
   "outputs": [
    {
     "name": "stdout",
     "output_type": "stream",
     "text": [
      "<BatchDataset shapes: ((None, 130, 126, 1), (None, 12)), types: (tf.float32, tf.float32)>\n",
      "<BatchDataset shapes: ((None, 130, 126, 1), (None, 12)), types: (tf.float32, tf.float32)>\n"
     ]
    }
   ],
   "source": [
    "train_dataset = tf.data.Dataset.from_tensor_slices((train_spec, train_label))\n",
    "train_dataset = train_dataset.map(one_hot_label)\n",
    "train_dataset = train_dataset.repeat().batch(batch_size=batch_size)\n",
    "print(train_dataset)\n",
    "\n",
    "test_dataset = tf.data.Dataset.from_tensor_slices((test_spec, test_label))\n",
    "test_dataset = test_dataset.map(one_hot_label)\n",
    "test_dataset = test_dataset.repeat().batch(batch_size=batch_size)\n",
    "print(test_dataset)"
   ]
  },
  {
   "cell_type": "markdown",
   "metadata": {},
   "source": [
    "#### 2. 모델 구성 및 학습 "
   ]
  },
  {
   "cell_type": "markdown",
   "metadata": {},
   "source": [
    "##### 2.1 기본 모델 "
   ]
  },
  {
   "cell_type": "code",
   "execution_count": 21,
   "metadata": {},
   "outputs": [
    {
     "name": "stdout",
     "output_type": "stream",
     "text": [
      "Model: \"functional_3\"\n",
      "_________________________________________________________________\n",
      "Layer (type)                 Output Shape              Param #   \n",
      "=================================================================\n",
      "input_2 (InputLayer)         [(None, 130, 126, 1)]     0         \n",
      "_________________________________________________________________\n",
      "conv2d_10 (Conv2D)           (None, 130, 126, 32)      320       \n",
      "_________________________________________________________________\n",
      "conv2d_11 (Conv2D)           (None, 130, 126, 32)      9248      \n",
      "_________________________________________________________________\n",
      "max_pooling2d_4 (MaxPooling2 (None, 65, 63, 32)        0         \n",
      "_________________________________________________________________\n",
      "conv2d_12 (Conv2D)           (None, 65, 63, 64)        18496     \n",
      "_________________________________________________________________\n",
      "conv2d_13 (Conv2D)           (None, 65, 63, 64)        36928     \n",
      "_________________________________________________________________\n",
      "max_pooling2d_5 (MaxPooling2 (None, 32, 31, 64)        0         \n",
      "_________________________________________________________________\n",
      "conv2d_14 (Conv2D)           (None, 32, 31, 128)       73856     \n",
      "_________________________________________________________________\n",
      "conv2d_15 (Conv2D)           (None, 32, 31, 128)       147584    \n",
      "_________________________________________________________________\n",
      "conv2d_16 (Conv2D)           (None, 32, 31, 128)       147584    \n",
      "_________________________________________________________________\n",
      "max_pooling2d_6 (MaxPooling2 (None, 16, 15, 128)       0         \n",
      "_________________________________________________________________\n",
      "conv2d_17 (Conv2D)           (None, 16, 15, 256)       295168    \n",
      "_________________________________________________________________\n",
      "conv2d_18 (Conv2D)           (None, 16, 15, 256)       590080    \n",
      "_________________________________________________________________\n",
      "conv2d_19 (Conv2D)           (None, 16, 15, 256)       590080    \n",
      "_________________________________________________________________\n",
      "max_pooling2d_7 (MaxPooling2 (None, 8, 7, 256)         0         \n",
      "_________________________________________________________________\n",
      "dropout_1 (Dropout)          (None, 8, 7, 256)         0         \n",
      "_________________________________________________________________\n",
      "flatten_1 (Flatten)          (None, 14336)             0         \n",
      "_________________________________________________________________\n",
      "dense_2 (Dense)              (None, 256)               3670272   \n",
      "_________________________________________________________________\n",
      "batch_normalization_1 (Batch (None, 256)               1024      \n",
      "_________________________________________________________________\n",
      "activation_1 (Activation)    (None, 256)               0         \n",
      "_________________________________________________________________\n",
      "dense_3 (Dense)              (None, 12)                3084      \n",
      "=================================================================\n",
      "Total params: 5,583,724\n",
      "Trainable params: 5,583,212\n",
      "Non-trainable params: 512\n",
      "_________________________________________________________________\n"
     ]
    }
   ],
   "source": [
    "input_tensor = layers.Input(shape=(130, 126, 1))\n",
    "\n",
    "x = layers.Conv2D(32, 3, padding='same', activation='relu')(input_tensor)\n",
    "x = layers.Conv2D(32, 3, padding='same', activation='relu')(x)\n",
    "x = layers.MaxPool2D()(x)\n",
    "\n",
    "x = layers.Conv2D(64, 3, padding='same', activation='relu')(x)\n",
    "x = layers.Conv2D(64, 3, padding='same', activation='relu')(x)\n",
    "x = layers.MaxPool2D()(x)\n",
    "\n",
    "x = layers.Conv2D(128, 3, padding='same', activation='relu')(x)\n",
    "x = layers.Conv2D(128, 3, padding='same', activation='relu')(x)\n",
    "x = layers.Conv2D(128, 3, padding='same', activation='relu')(x)\n",
    "x = layers.MaxPool2D()(x)\n",
    "\n",
    "x = layers.Conv2D(256, 3, padding='same', activation='relu')(x)\n",
    "x = layers.Conv2D(256, 3, padding='same', activation='relu')(x)\n",
    "x = layers.Conv2D(256, 3, padding='same', activation='relu')(x)\n",
    "x = layers.MaxPool2D()(x)\n",
    "x = layers.Dropout(0.3)(x)\n",
    "\n",
    "x = layers.Flatten()(x)\n",
    "x = layers.Dense(256)(x)\n",
    "x = layers.BatchNormalization()(x)\n",
    "x = layers.Activation('relu')(x)\n",
    "\n",
    "output_tensor = layers.Dense(12)(x)\n",
    "\n",
    "model_wav = tf.keras.Model(input_tensor, output_tensor)\n",
    "\n",
    "model_wav.summary()"
   ]
  },
  {
   "cell_type": "code",
   "execution_count": 22,
   "metadata": {},
   "outputs": [],
   "source": [
    "optimizer = tf.keras.optimizers.Adam(1e-4)\n",
    "model_wav.compile(loss=tf.keras.losses.CategoricalCrossentropy(from_logits=True), optimizer=optimizer, metrics=['accuracy'])"
   ]
  },
  {
   "cell_type": "code",
   "execution_count": 23,
   "metadata": {},
   "outputs": [],
   "source": [
    "cp_callback = tf.keras.callbacks.ModelCheckpoint(checkpoint_dir, save_weights_only=True, monitor='val_loss', mode='auto', save_best_only=True, verbose=1)"
   ]
  },
  {
   "cell_type": "code",
   "execution_count": 24,
   "metadata": {},
   "outputs": [
    {
     "name": "stdout",
     "output_type": "stream",
     "text": [
      "Epoch 1/10\n",
      "  2/355 [..............................] - ETA: 30s - loss: 2.4764 - accuracy: 0.0977WARNING:tensorflow:Callbacks method `on_train_batch_end` is slow compared to the batch time (batch time: 0.0559s vs `on_train_batch_end` time: 0.1112s). Check your callbacks.\n",
      "355/355 [==============================] - ETA: 0s - loss: 1.0055 - accuracy: 0.6793\n",
      "Epoch 00001: val_loss improved from inf to 0.86434, saving model to /home/aiffel/aiffel/speech_recognition/models/wav\n",
      "355/355 [==============================] - 53s 150ms/step - loss: 1.0055 - accuracy: 0.6793 - val_loss: 0.8643 - val_accuracy: 0.8582\n",
      "Epoch 2/10\n",
      "355/355 [==============================] - ETA: 0s - loss: 0.3423 - accuracy: 0.8965\n",
      "Epoch 00002: val_loss improved from 0.86434 to 0.29783, saving model to /home/aiffel/aiffel/speech_recognition/models/wav\n",
      "355/355 [==============================] - 55s 154ms/step - loss: 0.3423 - accuracy: 0.8965 - val_loss: 0.2978 - val_accuracy: 0.9099\n",
      "Epoch 3/10\n",
      "355/355 [==============================] - ETA: 0s - loss: 0.2207 - accuracy: 0.9353\n",
      "Epoch 00003: val_loss improved from 0.29783 to 0.21898, saving model to /home/aiffel/aiffel/speech_recognition/models/wav\n",
      "355/355 [==============================] - 54s 152ms/step - loss: 0.2207 - accuracy: 0.9353 - val_loss: 0.2190 - val_accuracy: 0.9355\n",
      "Epoch 4/10\n",
      "355/355 [==============================] - ETA: 0s - loss: 0.1605 - accuracy: 0.9549\n",
      "Epoch 00004: val_loss improved from 0.21898 to 0.19691, saving model to /home/aiffel/aiffel/speech_recognition/models/wav\n",
      "355/355 [==============================] - 54s 152ms/step - loss: 0.1605 - accuracy: 0.9549 - val_loss: 0.1969 - val_accuracy: 0.9371\n",
      "Epoch 5/10\n",
      "355/355 [==============================] - ETA: 0s - loss: 0.1255 - accuracy: 0.9651\n",
      "Epoch 00005: val_loss improved from 0.19691 to 0.16994, saving model to /home/aiffel/aiffel/speech_recognition/models/wav\n",
      "355/355 [==============================] - 54s 151ms/step - loss: 0.1255 - accuracy: 0.9651 - val_loss: 0.1699 - val_accuracy: 0.9461\n",
      "Epoch 6/10\n",
      "355/355 [==============================] - ETA: 0s - loss: 0.1023 - accuracy: 0.9724\n",
      "Epoch 00006: val_loss improved from 0.16994 to 0.14742, saving model to /home/aiffel/aiffel/speech_recognition/models/wav\n",
      "355/355 [==============================] - 54s 151ms/step - loss: 0.1023 - accuracy: 0.9724 - val_loss: 0.1474 - val_accuracy: 0.9531\n",
      "Epoch 7/10\n",
      "355/355 [==============================] - ETA: 0s - loss: 0.0870 - accuracy: 0.9759\n",
      "Epoch 00007: val_loss did not improve from 0.14742\n",
      "355/355 [==============================] - 54s 151ms/step - loss: 0.0870 - accuracy: 0.9759 - val_loss: 0.1544 - val_accuracy: 0.9499\n",
      "Epoch 8/10\n",
      "355/355 [==============================] - ETA: 0s - loss: 0.0733 - accuracy: 0.9805\n",
      "Epoch 00008: val_loss improved from 0.14742 to 0.13681, saving model to /home/aiffel/aiffel/speech_recognition/models/wav\n",
      "355/355 [==============================] - 54s 152ms/step - loss: 0.0733 - accuracy: 0.9805 - val_loss: 0.1368 - val_accuracy: 0.9555\n",
      "Epoch 9/10\n",
      "355/355 [==============================] - ETA: 0s - loss: 0.0640 - accuracy: 0.9829\n",
      "Epoch 00009: val_loss improved from 0.13681 to 0.13333, saving model to /home/aiffel/aiffel/speech_recognition/models/wav\n",
      "355/355 [==============================] - 54s 151ms/step - loss: 0.0640 - accuracy: 0.9829 - val_loss: 0.1333 - val_accuracy: 0.9561\n",
      "Epoch 10/10\n",
      "355/355 [==============================] - ETA: 0s - loss: 0.0583 - accuracy: 0.9839\n",
      "Epoch 00010: val_loss did not improve from 0.13333\n",
      "355/355 [==============================] - 54s 151ms/step - loss: 0.0583 - accuracy: 0.9839 - val_loss: 0.1576 - val_accuracy: 0.9491\n"
     ]
    }
   ],
   "source": [
    "history_wav = model_wav.fit(train_dataset, epochs=max_epochs, steps_per_epoch=len(train_wav)//batch_size, validation_data=test_dataset, \n",
    "                            validation_steps=len(test_wav)//batch_size, callbacks=[cp_callback])"
   ]
  },
  {
   "cell_type": "markdown",
   "metadata": {},
   "source": [
    "##### 2.2 Skip connection 추가 버전 "
   ]
  },
  {
   "cell_type": "code",
   "execution_count": 35,
   "metadata": {},
   "outputs": [
    {
     "name": "stdout",
     "output_type": "stream",
     "text": [
      "Model: \"functional_7\"\n",
      "__________________________________________________________________________________________________\n",
      "Layer (type)                    Output Shape         Param #     Connected to                     \n",
      "==================================================================================================\n",
      "input_4 (InputLayer)            [(None, 130, 126, 1) 0                                            \n",
      "__________________________________________________________________________________________________\n",
      "conv2d_30 (Conv2D)              (None, 130, 126, 32) 320         input_4[0][0]                    \n",
      "__________________________________________________________________________________________________\n",
      "conv2d_31 (Conv2D)              (None, 130, 126, 32) 9248        conv2d_30[0][0]                  \n",
      "__________________________________________________________________________________________________\n",
      "max_pooling2d_12 (MaxPooling2D) (None, 65, 63, 32)   0           conv2d_31[0][0]                  \n",
      "__________________________________________________________________________________________________\n",
      "conv2d_32 (Conv2D)              (None, 65, 63, 64)   18496       max_pooling2d_12[0][0]           \n",
      "__________________________________________________________________________________________________\n",
      "conv2d_33 (Conv2D)              (None, 65, 63, 64)   36928       conv2d_32[0][0]                  \n",
      "__________________________________________________________________________________________________\n",
      "tf_op_layer_concat_6 (TensorFlo [(None, 65, 63, 96)] 0           conv2d_33[0][0]                  \n",
      "                                                                 max_pooling2d_12[0][0]           \n",
      "__________________________________________________________________________________________________\n",
      "max_pooling2d_13 (MaxPooling2D) (None, 32, 31, 96)   0           tf_op_layer_concat_6[0][0]       \n",
      "__________________________________________________________________________________________________\n",
      "conv2d_34 (Conv2D)              (None, 32, 31, 128)  110720      max_pooling2d_13[0][0]           \n",
      "__________________________________________________________________________________________________\n",
      "conv2d_35 (Conv2D)              (None, 32, 31, 128)  147584      conv2d_34[0][0]                  \n",
      "__________________________________________________________________________________________________\n",
      "conv2d_36 (Conv2D)              (None, 32, 31, 128)  147584      conv2d_35[0][0]                  \n",
      "__________________________________________________________________________________________________\n",
      "tf_op_layer_concat_7 (TensorFlo [(None, 32, 31, 224) 0           conv2d_36[0][0]                  \n",
      "                                                                 max_pooling2d_13[0][0]           \n",
      "__________________________________________________________________________________________________\n",
      "max_pooling2d_14 (MaxPooling2D) (None, 16, 15, 224)  0           tf_op_layer_concat_7[0][0]       \n",
      "__________________________________________________________________________________________________\n",
      "conv2d_37 (Conv2D)              (None, 16, 15, 256)  516352      max_pooling2d_14[0][0]           \n",
      "__________________________________________________________________________________________________\n",
      "conv2d_38 (Conv2D)              (None, 16, 15, 256)  590080      conv2d_37[0][0]                  \n",
      "__________________________________________________________________________________________________\n",
      "conv2d_39 (Conv2D)              (None, 16, 15, 256)  590080      conv2d_38[0][0]                  \n",
      "__________________________________________________________________________________________________\n",
      "tf_op_layer_concat_8 (TensorFlo [(None, 16, 15, 480) 0           conv2d_39[0][0]                  \n",
      "                                                                 max_pooling2d_14[0][0]           \n",
      "__________________________________________________________________________________________________\n",
      "max_pooling2d_15 (MaxPooling2D) (None, 8, 7, 480)    0           tf_op_layer_concat_8[0][0]       \n",
      "__________________________________________________________________________________________________\n",
      "dropout_3 (Dropout)             (None, 8, 7, 480)    0           max_pooling2d_15[0][0]           \n",
      "__________________________________________________________________________________________________\n",
      "flatten_3 (Flatten)             (None, 26880)        0           dropout_3[0][0]                  \n",
      "__________________________________________________________________________________________________\n",
      "dense_6 (Dense)                 (None, 256)          6881536     flatten_3[0][0]                  \n",
      "__________________________________________________________________________________________________\n",
      "batch_normalization_3 (BatchNor (None, 256)          1024        dense_6[0][0]                    \n",
      "__________________________________________________________________________________________________\n",
      "activation_3 (Activation)       (None, 256)          0           batch_normalization_3[0][0]      \n",
      "__________________________________________________________________________________________________\n",
      "dense_7 (Dense)                 (None, 12)           3084        activation_3[0][0]               \n",
      "==================================================================================================\n",
      "Total params: 9,053,036\n",
      "Trainable params: 9,052,524\n",
      "Non-trainable params: 512\n",
      "__________________________________________________________________________________________________\n"
     ]
    }
   ],
   "source": [
    "input_tensor = layers.Input(shape=(130,126,1))\n",
    "\n",
    "x = layers.Conv2D(32, 3, padding='same', activation='relu')(input_tensor)\n",
    "x = layers.Conv2D(32, 3, padding='same', activation='relu')(x)\n",
    "skip_1 = layers.MaxPool2D()(x)\n",
    "\n",
    "x = layers.Conv2D(64, 3, padding='same', activation='relu')(skip_1)\n",
    "x = layers.Conv2D(64, 3, padding='same', activation='relu')(x)\n",
    "x = tf.concat([x, skip_1], -1)\n",
    "skip_2 = layers.MaxPool2D()(x)\n",
    "\n",
    "x = layers.Conv2D(128, 3, padding='same', activation='relu')(skip_2)\n",
    "x = layers.Conv2D(128, 3, padding='same', activation='relu')(x)\n",
    "x = layers.Conv2D(128, 3, padding='same', activation='relu')(x)\n",
    "x = tf.concat([x, skip_2], -1)\n",
    "skip_3 = layers.MaxPool2D()(x)\n",
    "\n",
    "x = layers.Conv2D(256, 3, padding='same', activation='relu')(skip_3)\n",
    "x = layers.Conv2D(256, 3, padding='same', activation='relu')(x)\n",
    "x = layers.Conv2D(256, 3, padding='same', activation='relu')(x)\n",
    "x = tf.concat([x, skip_3], -1)\n",
    "x = layers.MaxPool2D()(x)\n",
    "x = layers.Dropout(0.3)(x)\n",
    "\n",
    "x = layers.Flatten()(x)\n",
    "x = layers.Dense(256)(x)\n",
    "x = layers.BatchNormalization()(x)\n",
    "x = layers.Activation('relu')(x)\n",
    "\n",
    "output_tensor = layers.Dense(12)(x)\n",
    "\n",
    "model_wav_skip = tf.keras.Model(input_tensor, output_tensor)\n",
    "\n",
    "model_wav_skip.summary()"
   ]
  },
  {
   "cell_type": "code",
   "execution_count": 26,
   "metadata": {},
   "outputs": [],
   "source": [
    "optimizer = tf.keras.optimizers.Adam(1e-4)\n",
    "model_wav_skip.compile(loss=tf.keras.losses.CategoricalCrossentropy(from_logits=True), optimizer=optimizer, metrics=['accuracy'])"
   ]
  },
  {
   "cell_type": "code",
   "execution_count": 27,
   "metadata": {},
   "outputs": [],
   "source": [
    "checkpoint_dir_skip = os.getenv('HOME') + '/aiffel/speech_recognition/models/wav_skip'\n",
    "\n",
    "cp_callback_skip = tf.keras.callbacks.ModelCheckpoint(checkpoint_dir_skip, save_weights_only=True, monitor='val_loss', mode='auto', save_best_only=True, verbose=1)"
   ]
  },
  {
   "cell_type": "code",
   "execution_count": 28,
   "metadata": {},
   "outputs": [
    {
     "name": "stdout",
     "output_type": "stream",
     "text": [
      "Epoch 1/10\n",
      "  2/355 [..............................] - ETA: 43s - loss: 2.7491 - accuracy: 0.1055WARNING:tensorflow:Callbacks method `on_train_batch_end` is slow compared to the batch time (batch time: 0.0598s vs `on_train_batch_end` time: 0.1042s). Check your callbacks.\n",
      "355/355 [==============================] - ETA: 0s - loss: 1.0972 - accuracy: 0.6513\n",
      "Epoch 00001: val_loss improved from inf to 0.49493, saving model to /home/aiffel/aiffel/speech_recognition/models/wav_skip\n",
      "355/355 [==============================] - 59s 166ms/step - loss: 1.0972 - accuracy: 0.6513 - val_loss: 0.4949 - val_accuracy: 0.8658\n",
      "Epoch 2/10\n",
      "355/355 [==============================] - ETA: 0s - loss: 0.3491 - accuracy: 0.8950\n",
      "Epoch 00002: val_loss improved from 0.49493 to 0.31714, saving model to /home/aiffel/aiffel/speech_recognition/models/wav_skip\n",
      "355/355 [==============================] - 60s 168ms/step - loss: 0.3491 - accuracy: 0.8950 - val_loss: 0.3171 - val_accuracy: 0.9036\n",
      "Epoch 3/10\n",
      "355/355 [==============================] - ETA: 0s - loss: 0.2268 - accuracy: 0.9349\n",
      "Epoch 00003: val_loss improved from 0.31714 to 0.23696, saving model to /home/aiffel/aiffel/speech_recognition/models/wav_skip\n",
      "355/355 [==============================] - 60s 170ms/step - loss: 0.2268 - accuracy: 0.9349 - val_loss: 0.2370 - val_accuracy: 0.9297\n",
      "Epoch 4/10\n",
      "355/355 [==============================] - ETA: 0s - loss: 0.1683 - accuracy: 0.9529\n",
      "Epoch 00004: val_loss improved from 0.23696 to 0.20003, saving model to /home/aiffel/aiffel/speech_recognition/models/wav_skip\n",
      "355/355 [==============================] - 60s 168ms/step - loss: 0.1683 - accuracy: 0.9529 - val_loss: 0.2000 - val_accuracy: 0.9405\n",
      "Epoch 5/10\n",
      "355/355 [==============================] - ETA: 0s - loss: 0.1311 - accuracy: 0.9648\n",
      "Epoch 00005: val_loss improved from 0.20003 to 0.17156, saving model to /home/aiffel/aiffel/speech_recognition/models/wav_skip\n",
      "355/355 [==============================] - 61s 173ms/step - loss: 0.1311 - accuracy: 0.9648 - val_loss: 0.1716 - val_accuracy: 0.9497\n",
      "Epoch 6/10\n",
      "355/355 [==============================] - ETA: 0s - loss: 0.1088 - accuracy: 0.9708\n",
      "Epoch 00006: val_loss improved from 0.17156 to 0.16270, saving model to /home/aiffel/aiffel/speech_recognition/models/wav_skip\n",
      "355/355 [==============================] - 59s 167ms/step - loss: 0.1088 - accuracy: 0.9708 - val_loss: 0.1627 - val_accuracy: 0.9511\n",
      "Epoch 7/10\n",
      "355/355 [==============================] - ETA: 0s - loss: 0.0902 - accuracy: 0.9761\n",
      "Epoch 00007: val_loss improved from 0.16270 to 0.15718, saving model to /home/aiffel/aiffel/speech_recognition/models/wav_skip\n",
      "355/355 [==============================] - 60s 169ms/step - loss: 0.0902 - accuracy: 0.9761 - val_loss: 0.1572 - val_accuracy: 0.9525\n",
      "Epoch 8/10\n",
      "355/355 [==============================] - ETA: 0s - loss: 0.0768 - accuracy: 0.9802\n",
      "Epoch 00008: val_loss improved from 0.15718 to 0.14468, saving model to /home/aiffel/aiffel/speech_recognition/models/wav_skip\n",
      "355/355 [==============================] - 59s 167ms/step - loss: 0.0768 - accuracy: 0.9802 - val_loss: 0.1447 - val_accuracy: 0.9553\n",
      "Epoch 9/10\n",
      "355/355 [==============================] - ETA: 0s - loss: 0.0677 - accuracy: 0.9818\n",
      "Epoch 00009: val_loss did not improve from 0.14468\n",
      "355/355 [==============================] - 59s 166ms/step - loss: 0.0677 - accuracy: 0.9818 - val_loss: 0.1648 - val_accuracy: 0.9477\n",
      "Epoch 10/10\n",
      "355/355 [==============================] - ETA: 0s - loss: 0.0598 - accuracy: 0.9841\n",
      "Epoch 00010: val_loss improved from 0.14468 to 0.11761, saving model to /home/aiffel/aiffel/speech_recognition/models/wav_skip\n",
      "355/355 [==============================] - 61s 172ms/step - loss: 0.0598 - accuracy: 0.9841 - val_loss: 0.1176 - val_accuracy: 0.9633\n"
     ]
    }
   ],
   "source": [
    "history_wav_skip = model_wav_skip.fit(train_dataset, epochs=max_epochs, steps_per_epoch=len(train_wav)//batch_size, validation_data=test_dataset, \n",
    "                            validation_steps=len(test_wav)//batch_size, callbacks=[cp_callback_skip])"
   ]
  },
  {
   "cell_type": "markdown",
   "metadata": {},
   "source": [
    "#### 3. 시각화"
   ]
  },
  {
   "cell_type": "code",
   "execution_count": 29,
   "metadata": {},
   "outputs": [
    {
     "data": {
      "image/png": "[encoded data removed]",
      "text/plain": [
       "<Figure size 576x576 with 2 Axes>"
      ]
     },
     "metadata": {
      "needs_background": "light"
     },
     "output_type": "display_data"
    }
   ],
   "source": [
    "acc = history_wav.history['accuracy']\n",
    "val_acc = history_wav.history['val_accuracy']\n",
    "\n",
    "loss = history_wav.history['loss']\n",
    "val_loss = history_wav.history['val_loss']\n",
    "\n",
    "epochs_range = range(len(acc))\n",
    "\n",
    "plt.figure(figsize=(8, 8))\n",
    "plt.subplot(1, 2, 1)\n",
    "plt.plot(epochs_range, acc, label=\"Training Accuracy\")\n",
    "plt.plot(epochs_range, val_acc, label='Validation Accuracy')\n",
    "plt.legend(loc='lower right')\n",
    "plt.title('Training and Validataion Accuracy')\n",
    "\n",
    "plt.subplot(1, 2, 2)\n",
    "plt.plot(epochs_range, loss, label='Training Loss')\n",
    "plt.plot(epochs_range, val_loss, label='Validation Loss')\n",
    "plt.legend(loc='upper right')\n",
    "plt.title('Training and Validation Loss')\n",
    "plt.show()"
   ]
  },
  {
   "cell_type": "code",
   "execution_count": 30,
   "metadata": {},
   "outputs": [
    {
     "data": {
      "text/plain": [
       "<tensorflow.python.training.tracking.util.CheckpointLoadStatus at 0x7fe93c6def90>"
      ]
     },
     "execution_count": 30,
     "metadata": {},
     "output_type": "execute_result"
    }
   ],
   "source": [
    "model_wav.load_weights(checkpoint_dir)"
   ]
  },
  {
   "cell_type": "code",
   "execution_count": 31,
   "metadata": {},
   "outputs": [
    {
     "name": "stdout",
     "output_type": "stream",
     "text": [
      "39/39 [==============================] - 2s 48ms/step - loss: 0.1333 - accuracy: 0.9561\n"
     ]
    }
   ],
   "source": [
    "results = model_wav.evaluate(test_dataset, steps = len(test_wav) // batch_size)"
   ]
  },
  {
   "cell_type": "code",
   "execution_count": 32,
   "metadata": {},
   "outputs": [
    {
     "name": "stdout",
     "output_type": "stream",
     "text": [
      "loss value : 0.13332827389240265\n",
      "accuracy value : 95.6129789352417\n"
     ]
    }
   ],
   "source": [
    "print(f\"loss value : {results[0]}\")\n",
    "print(f\"accuracy value : {results[1]*100}\")"
   ]
  },
  {
   "cell_type": "markdown",
   "metadata": {},
   "source": [
    "**Waveform 데이터를 입력으로 받아 Conv1D학습을 하는 것보다 Spectrogram 데이터를 입력으로 받아 Conv2D학습을 하는 것이 더 좋은 결과를 내는 것을 확인할 수 있다.**"
   ]
  },
  {
   "cell_type": "code",
   "execution_count": 33,
   "metadata": {},
   "outputs": [
    {
     "data": {
      "image/png": "[encoded data removed]",
      "text/plain": [
       "<Figure size 576x576 with 2 Axes>"
      ]
     },
     "metadata": {
      "needs_background": "light"
     },
     "output_type": "display_data"
    }
   ],
   "source": [
    "acc = history_wav_skip.history['accuracy']\n",
    "val_acc = history_wav_skip.history['val_accuracy']\n",
    "\n",
    "loss = history_wav_skip.history['loss']\n",
    "val_loss = history_wav_skip.history['val_loss']\n",
    "\n",
    "epochs_range = range(len(acc))\n",
    "\n",
    "plt.figure(figsize=(8, 8))\n",
    "plt.subplot(1, 2, 1)\n",
    "plt.plot(epochs_range, acc, label=\"Training Accuracy\")\n",
    "plt.plot(epochs_range, val_acc, label='Validation Accuracy')\n",
    "plt.legend(loc='lower right')\n",
    "plt.title('Training and Validataion Accuracy')\n",
    "\n",
    "plt.subplot(1, 2, 2)\n",
    "plt.plot(epochs_range, loss, label='Training Loss')\n",
    "plt.plot(epochs_range, val_loss, label='Validation Loss')\n",
    "plt.legend(loc = 'upper right')\n",
    "plt.title('Training and Validation Loss')\n",
    "plt.show()"
   ]
  },
  {
   "cell_type": "code",
   "execution_count": 34,
   "metadata": {},
   "outputs": [
    {
     "name": "stdout",
     "output_type": "stream",
     "text": [
      "39/39 [==============================] - 2s 52ms/step - loss: 0.1176 - accuracy: 0.9633\n",
      "loss value : 0.11760711669921875\n",
      "accuracy value : 96.33413553237915\n"
     ]
    }
   ],
   "source": [
    "model_wav_skip.load_weights(checkpoint_dir_skip)\n",
    "results = model_wav_skip.evaluate(test_dataset, steps=len(test_wav)//batch_size)\n",
    "\n",
    "\n",
    "print(f\"loss value : {results[0]}\")\n",
    "print(f\"accuracy value : {results[1]*100}\")"
   ]
  },
  {
   "cell_type": "markdown",
   "metadata": {},
   "source": [
    "**Skip-connection을 추가한 버전이 layer층을 더 많이 쌓지는 않아도 더 좋은 성능을 내는 것을 확인할 수 있다.**"
   ]
  },
  {
   "cell_type": "markdown",
   "metadata": {},
   "source": [
    "#### 4. 고찰 \n",
    "\n",
    "- 처음에는 시간에 따른 파형을 Spectogram으로 변환하여 2차원으로 학습을 시키는 경우 연속적인 시간에 따른 정보가 왜곡되는 것이 아닐지 고민을 하였지만 Spectrogam의 형태와 Convolution의 원리를 이해하니 모델의 학습방법을 이해할 수 있었다. \n",
    "- 학습을 위한 데이터 변환의 중요성과 데이터가 변환된 경우 모델을 변경하는 방법에 대해서 배울 수 있었다. "
   ]
  }
 ],
 "metadata": {
  "kernelspec": {
   "display_name": "aiffel",
   "language": "python",
   "name": "aiffel"
  },
  "language_info": {
   "codemirror_mode": {
    "name": "ipython",
    "version": 3
   },
   "file_extension": ".py",
   "mimetype": "text/x-python",
   "name": "python",
   "nbconvert_exporter": "python",
   "pygments_lexer": "ipython3",
   "version": "3.7.6"
  }
 },
 "nbformat": 4,
 "nbformat_minor": 4
}
