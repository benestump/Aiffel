{
 "cells": [
  {
   "cell_type": "markdown",
   "metadata": {},
   "source": [
    "### E20 Anomaly Detection\n",
    "\n",
    "- 목표 \n",
    "    - 시계열 데이터의 이상치의 개념을 이해한다.\n",
    "    - 다양한 방법으로 이상치를 탐색해본다.\n",
    "    - 발견한 이상치를 처리하는 방법을 알아본다."
   ]
  },
  {
   "cell_type": "code",
   "execution_count": 46,
   "metadata": {},
   "outputs": [],
   "source": [
    "import pandas as pd\n",
    "import os\n",
    "import matplotlib.pyplot as plt\n",
    "from matplotlib.pylab import rcParams\n",
    "from scipy.stats import norm\n",
    "import numpy as np\n",
    "from statsmodels.stats.weightstats import ztest\n",
    "from statsmodels.tsa.seasonal import seasonal_decompose\n",
    "from sklearn.preprocessing import StandardScaler\n",
    "from sklearn.cluster import KMeans\n",
    "from sklearn.cluster import DBSCAN\n",
    "\n",
    "import tensorflow as tf\n",
    "from tensorflow.keras.preprocessing.sequence import TimeseriesGenerator\n",
    "from tensorflow.keras.models import Sequential\n",
    "from tensorflow.keras.layers import Dense, Dropout, LSTM, RepeatVector, TimeDistributed\n",
    "from tensorflow.keras.losses import Huber\n",
    "from tensorflow.keras.callbacks import ModelCheckpoint, EarlyStopping"
   ]
  },
  {
   "cell_type": "markdown",
   "metadata": {},
   "source": [
    "#### 1. 데이터 불러오기"
   ]
  },
  {
   "cell_type": "code",
   "execution_count": 47,
   "metadata": {},
   "outputs": [
    {
     "data": {
      "text/html": [
       "<div>\n",
       "<style scoped>\n",
       "    .dataframe tbody tr th:only-of-type {\n",
       "        vertical-align: middle;\n",
       "    }\n",
       "\n",
       "    .dataframe tbody tr th {\n",
       "        vertical-align: top;\n",
       "    }\n",
       "\n",
       "    .dataframe thead th {\n",
       "        text-align: right;\n",
       "    }\n",
       "</style>\n",
       "<table border=\"1\" class=\"dataframe\">\n",
       "  <thead>\n",
       "    <tr style=\"text-align: right;\">\n",
       "      <th></th>\n",
       "      <th>Date</th>\n",
       "      <th>Open</th>\n",
       "      <th>High</th>\n",
       "      <th>Low</th>\n",
       "      <th>Close</th>\n",
       "      <th>Adj Close</th>\n",
       "      <th>Volume</th>\n",
       "    </tr>\n",
       "  </thead>\n",
       "  <tbody>\n",
       "    <tr>\n",
       "      <th>6166</th>\n",
       "      <td>2020-10-20</td>\n",
       "      <td>11697.500000</td>\n",
       "      <td>11792.000000</td>\n",
       "      <td>11598.5</td>\n",
       "      <td>11660.799805</td>\n",
       "      <td>11660.799805</td>\n",
       "      <td>622702.0</td>\n",
       "    </tr>\n",
       "    <tr>\n",
       "      <th>6167</th>\n",
       "      <td>2020-10-21</td>\n",
       "      <td>11675.200195</td>\n",
       "      <td>11779.200195</td>\n",
       "      <td>11585.0</td>\n",
       "      <td>11691.200195</td>\n",
       "      <td>11691.200195</td>\n",
       "      <td>599851.0</td>\n",
       "    </tr>\n",
       "    <tr>\n",
       "      <th>6168</th>\n",
       "      <td>2020-10-22</td>\n",
       "      <td>11683.500000</td>\n",
       "      <td>11724.000000</td>\n",
       "      <td>11511.0</td>\n",
       "      <td>11649.799805</td>\n",
       "      <td>11649.799805</td>\n",
       "      <td>583669.0</td>\n",
       "    </tr>\n",
       "    <tr>\n",
       "      <th>6169</th>\n",
       "      <td>2020-10-23</td>\n",
       "      <td>11669.200195</td>\n",
       "      <td>11691.799805</td>\n",
       "      <td>11551.0</td>\n",
       "      <td>11663.500000</td>\n",
       "      <td>11663.500000</td>\n",
       "      <td>583669.0</td>\n",
       "    </tr>\n",
       "    <tr>\n",
       "      <th>6170</th>\n",
       "      <td>2020-10-25</td>\n",
       "      <td>NaN</td>\n",
       "      <td>NaN</td>\n",
       "      <td>NaN</td>\n",
       "      <td>NaN</td>\n",
       "      <td>NaN</td>\n",
       "      <td>NaN</td>\n",
       "    </tr>\n",
       "  </tbody>\n",
       "</table>\n",
       "</div>"
      ],
      "text/plain": [
       "            Date          Open          High      Low         Close  \\\n",
       "6166  2020-10-20  11697.500000  11792.000000  11598.5  11660.799805   \n",
       "6167  2020-10-21  11675.200195  11779.200195  11585.0  11691.200195   \n",
       "6168  2020-10-22  11683.500000  11724.000000  11511.0  11649.799805   \n",
       "6169  2020-10-23  11669.200195  11691.799805  11551.0  11663.500000   \n",
       "6170  2020-10-25           NaN           NaN      NaN           NaN   \n",
       "\n",
       "         Adj Close    Volume  \n",
       "6166  11660.799805  622702.0  \n",
       "6167  11691.200195  599851.0  \n",
       "6168  11649.799805  583669.0  \n",
       "6169  11663.500000  583669.0  \n",
       "6170           NaN       NaN  "
      ]
     },
     "execution_count": 47,
     "metadata": {},
     "output_type": "execute_result"
    }
   ],
   "source": [
    "csv_file = os.getenv('HOME') + '/Aiffel/Exploration/20_anomaly_detection/nasdaq/nasdaq.csv'\n",
    "\n",
    "df = pd.read_csv(csv_file)\n",
    "df.tail()"
   ]
  },
  {
   "cell_type": "code",
   "execution_count": 48,
   "metadata": {},
   "outputs": [
    {
     "name": "stdout",
     "output_type": "stream",
     "text": [
      "<class 'pandas.core.frame.DataFrame'>\n",
      "RangeIndex: 6171 entries, 0 to 6170\n",
      "Data columns (total 7 columns):\n",
      " #   Column     Non-Null Count  Dtype  \n",
      "---  ------     --------------  -----  \n",
      " 0   Date       6171 non-null   object \n",
      " 1   Open       5098 non-null   float64\n",
      " 2   High       5098 non-null   float64\n",
      " 3   Low        5098 non-null   float64\n",
      " 4   Close      5098 non-null   float64\n",
      " 5   Adj Close  5098 non-null   float64\n",
      " 6   Volume     5098 non-null   float64\n",
      "dtypes: float64(6), object(1)\n",
      "memory usage: 337.6+ KB\n"
     ]
    }
   ],
   "source": [
    "df.info()"
   ]
  },
  {
   "cell_type": "code",
   "execution_count": 49,
   "metadata": {},
   "outputs": [],
   "source": [
    "df.loc[:, 'Date'] = pd.to_datetime(df.Date)"
   ]
  },
  {
   "cell_type": "code",
   "execution_count": 50,
   "metadata": {},
   "outputs": [
    {
     "data": {
      "text/plain": [
       "Date            0\n",
       "Open         1073\n",
       "High         1073\n",
       "Low          1073\n",
       "Close        1073\n",
       "Adj Close    1073\n",
       "Volume       1073\n",
       "dtype: int64"
      ]
     },
     "execution_count": 50,
     "metadata": {},
     "output_type": "execute_result"
    }
   ],
   "source": [
    "df.isna().sum()"
   ]
  },
  {
   "cell_type": "code",
   "execution_count": 51,
   "metadata": {},
   "outputs": [
    {
     "name": "stdout",
     "output_type": "stream",
     "text": [
      "삭제 전 데이터 길이 : 6171\n",
      "삭제 후 데이터 길이 : 5098\n"
     ]
    },
    {
     "data": {
      "text/plain": [
       "Date         0\n",
       "Open         0\n",
       "High         0\n",
       "Low          0\n",
       "Close        0\n",
       "Adj Close    0\n",
       "Volume       0\n",
       "dtype: int64"
      ]
     },
     "execution_count": 51,
     "metadata": {},
     "output_type": "execute_result"
    }
   ],
   "source": [
    "print(f'삭제 전 데이터 길이 : {len(df)}')\n",
    "df = df.dropna(axis=0).reset_index(drop=True)\n",
    "\n",
    "print(f'삭제 후 데이터 길이 : {len(df)}')\n",
    "df.isna().sum()"
   ]
  },
  {
   "cell_type": "code",
   "execution_count": 52,
   "metadata": {
    "scrolled": true
   },
   "outputs": [
    {
     "data": {
      "image/png": "[encoded data removed]",
      "text/plain": [
       "<Figure size 864x360 with 1 Axes>"
      ]
     },
     "metadata": {
      "needs_background": "light"
     },
     "output_type": "display_data"
    }
   ],
   "source": [
    "plt.rcParams['figure.figsize'] =(12, 5)\n",
    "\n",
    "plt.plot(df.Date, df.Close, marker='s', color='r')\n",
    "plt.plot(df.Date, df.High, marker='o', color='g')\n",
    "plt.plot(df.Date, df.Low, marker='*', color='b')\n",
    "plt.plot(df.Date, df.Open, marker='+', color='y')\n",
    "\n",
    "plt.title('NASDDAQ', fontsize=20)\n",
    "plt.ylabel('Stock', fontsize=14)\n",
    "plt.xlabel('Date', fontsize=14)\n",
    "plt.legend(['Colse', 'High', 'Low', 'Open'], fontsize=12, loc='best')\n",
    "\n",
    "plt.show()"
   ]
  },
  {
   "cell_type": "markdown",
   "metadata": {},
   "source": [
    "**위의 그래프에서 특별이 눈에 띄는 Outlier값은 보이지 않는다**"
   ]
  },
  {
   "cell_type": "markdown",
   "metadata": {},
   "source": [
    "#### 2. 기본 통계분석으로 이상치 찾기\n",
    "- 데이터 분포"
   ]
  },
  {
   "cell_type": "code",
   "execution_count": 53,
   "metadata": {},
   "outputs": [
    {
     "data": {
      "image/png": "[encoded data removed]",
      "text/plain": [
       "<Figure size 864x360 with 1 Axes>"
      ]
     },
     "metadata": {
      "needs_background": "light"
     },
     "output_type": "display_data"
    }
   ],
   "source": [
    "_ = plt.hist(df.Close, 100, density=True, alpha=0.75)"
   ]
  },
  {
   "cell_type": "markdown",
   "metadata": {},
   "source": [
    "- z-test"
   ]
  },
  {
   "cell_type": "code",
   "execution_count": 54,
   "metadata": {
    "scrolled": true
   },
   "outputs": [
    {
     "name": "stdout",
     "output_type": "stream",
     "text": [
      "0.0\n"
     ]
    }
   ],
   "source": [
    "from statsmodels.stats.weightstats import ztest\n",
    "_, p = ztest(df.Close)\n",
    "print(p)"
   ]
  },
  {
   "cell_type": "code",
   "execution_count": null,
   "metadata": {},
   "outputs": [],
   "source": [
    "result = seasonal_decompose(df.Close, model='additive', two_sided=True, period=50, extrapolate_trend='freq')\n",
    "result.plot()\n",
    "plt.show()"
   ]
  },
  {
   "cell_type": "code",
   "execution_count": null,
   "metadata": {},
   "outputs": [],
   "source": [
    "fig, axes = plt.subplots(ncols=1, nrows=4, sharex=True, figsize=(12, 9))\n",
    "result.observed.plot(ax=axes[0], legend=False)\n",
    "axes[0].set_ylabel('Observed')\n",
    "result.trend.plot(ax=axes[1], legend=False)\n",
    "axes[1].set_ylabel('Trend')\n",
    "result.seasonal.plot(ax=axes[2], legend=False)\n",
    "axes[2].set_ylabel('Seasonal')\n",
    "result.resid.plot(ax=axes[3], legend=False)\n",
    "axes[3].set_ylabel('Residual')\n",
    "plt.show()"
   ]
  },
  {
   "cell_type": "code",
   "execution_count": null,
   "metadata": {},
   "outputs": [],
   "source": [
    "result.seasonal[:100].plot()"
   ]
  },
  {
   "cell_type": "code",
   "execution_count": null,
   "metadata": {},
   "outputs": [],
   "source": [
    "fig, ax = plt.subplots(figsize=(9, 6))\n",
    "_ = plt.hist(result.resid, 100, density=True, alpha=0.75)"
   ]
  },
  {
   "cell_type": "code",
   "execution_count": null,
   "metadata": {},
   "outputs": [],
   "source": [
    "r = result.resid.values\n",
    "st, p = ztest(r)\n",
    "print(st, p)"
   ]
  },
  {
   "cell_type": "code",
   "execution_count": null,
   "metadata": {},
   "outputs": [],
   "source": [
    "mu, std = result.resid.mean(), result.resid.std()\n",
    "print('평균:', mu, '표준편차:', std)\n",
    "\n",
    "print('이상치 갯수:', len(result.resid[(result.resid>mu+3*std)|(result.resid<mu-3*std)]))"
   ]
  },
  {
   "cell_type": "code",
   "execution_count": null,
   "metadata": {},
   "outputs": [],
   "source": [
    "ls = list(df.Date[result.resid[\n",
    "    (result.resid>mu+3*std)|(result.resid<mu-3*std)].index])"
   ]
  },
  {
   "cell_type": "code",
   "execution_count": null,
   "metadata": {},
   "outputs": [],
   "source": [
    "print(ls)"
   ]
  },
  {
   "cell_type": "markdown",
   "metadata": {},
   "source": [
    "- 2000년, 2018년, 2020년등의 미국 증시는 기존의 흐림과는 달리 폭락, 폭등 등 정시의 변동성이 컸었고 이 기간의 값들은 기존의 증시 흐름에 대비하여 특이치로 보여진다. \n",
    "- 이러한 이상치는 주식에 대한 이해를 가지고 있다면 충분히 가능한 일이며 따라서 이를 교정하는 경우 오히려 실제 데이터를 조작하는 것이 되어 적절하지 않을 것으로 판단된다. "
   ]
  },
  {
   "cell_type": "markdown",
   "metadata": {},
   "source": [
    "#### 3. Unsupervised Clustering으로 이상치 찾기 \n",
    "##### 3-1 K-means로 분석하기"
   ]
  },
  {
   "cell_type": "code",
   "execution_count": null,
   "metadata": {},
   "outputs": [],
   "source": [
    "def my_decompose(df, features, freq=50):\n",
    "    trend = pd.DataFrame()\n",
    "    seasonal = pd.DataFrame()\n",
    "    resid = pd.DataFrame()\n",
    "    \n",
    "    for f in features:\n",
    "        result = seasonal_decompose(df[f], model='additive', period=freq, extrapolate_trend=freq)\n",
    "        trend[f] = result.trend.values\n",
    "        seasonal[f] = result.seasonal.values\n",
    "        resid[f] = result.resid.values\n",
    "        \n",
    "    return trend, seasonal, resid\n",
    "\n",
    "tdf, sdf, rdf = my_decompose(df, features=['Open', 'High', 'Low', 'Close', 'Volume'])\n",
    "tdf.describe()"
   ]
  },
  {
   "cell_type": "code",
   "execution_count": null,
   "metadata": {},
   "outputs": [],
   "source": [
    "rdf.describe()"
   ]
  },
  {
   "cell_type": "code",
   "execution_count": null,
   "metadata": {},
   "outputs": [],
   "source": [
    "scaler = StandardScaler()\n",
    "scaler.fit(rdf)\n",
    "print(scaler.mean_)\n",
    "norm_rdf = scaler.transform(rdf)\n",
    "norm_rdf"
   ]
  },
  {
   "cell_type": "code",
   "execution_count": null,
   "metadata": {},
   "outputs": [],
   "source": [
    "kmeans = KMeans(n_clusters=2, random_state=0).fit(norm_rdf)\n",
    "print(kmeans.labels_)"
   ]
  },
  {
   "cell_type": "code",
   "execution_count": null,
   "metadata": {},
   "outputs": [],
   "source": [
    "lbl, cnt = np.unique(kmeans.labels_, return_counts=True)\n",
    "print(lbl)\n",
    "print(cnt)"
   ]
  },
  {
   "cell_type": "code",
   "execution_count": null,
   "metadata": {},
   "outputs": [],
   "source": [
    "kmeans=KMeans(n_clusters=15, random_state=0).fit(norm_rdf)\n",
    "lbl, cnt = np.unique(kmeans.labels_, return_counts=True)\n",
    "[f'group : {group} - count : {count}' for group, count in zip(lbl, cnt)]"
   ]
  },
  {
   "cell_type": "code",
   "execution_count": null,
   "metadata": {},
   "outputs": [],
   "source": [
    "df[(kmeans.labels_==3)|(kmeans.labels_==8)| (kmeans.labels_==12)]"
   ]
  },
  {
   "cell_type": "code",
   "execution_count": null,
   "metadata": {},
   "outputs": [],
   "source": [
    "df.describe()"
   ]
  },
  {
   "cell_type": "code",
   "execution_count": null,
   "metadata": {},
   "outputs": [],
   "source": [
    "pd.DataFrame(kmeans.cluster_centers_, columns=['Open', 'High', 'Low', 'Close', 'Volume'])"
   ]
  },
  {
   "cell_type": "markdown",
   "metadata": {},
   "source": [
    "- 위의 결과들 또한 2000년, 2018년, 2020년이 나오고 이 해의 기사를 검색하여 보면 공포, 폭락 등 기존과는 다른 증시의 모습을 볼 수 있다. \n",
    "- 이러한 이상치 값은 특이치이며 그대로 사용하여야 한다. "
   ]
  },
  {
   "cell_type": "code",
   "execution_count": null,
   "metadata": {},
   "outputs": [],
   "source": [
    "fig = plt.figure(figsize=(15,9))\n",
    "ax = fig.add_subplot(111)\n",
    "df.Close.plot(ax=ax, label='Observed', legend=True)\n",
    "tdf.Close.plot(ax=ax, label='Trend', legend=True)\n",
    "rdf.Close.plot(ax=ax, label='Resid', legend=True)\n",
    "plt.show()\n"
   ]
  },
  {
   "cell_type": "markdown",
   "metadata": {},
   "source": [
    "- 위의 그래프에서 증시의 변화가 심한 경우에 Residual 값이 큰 범위로 변화는 것을 확인할 수 있다."
   ]
  },
  {
   "cell_type": "markdown",
   "metadata": {},
   "source": [
    "##### 3-2  DBSCAN으로 분석하기"
   ]
  },
  {
   "cell_type": "code",
   "execution_count": null,
   "metadata": {},
   "outputs": [],
   "source": [
    "clustering = DBSCAN(eps=0.7, min_samples=2).fit(norm_rdf)\n",
    "clustering"
   ]
  },
  {
   "cell_type": "code",
   "execution_count": null,
   "metadata": {},
   "outputs": [],
   "source": [
    "print(clustering.labels_)"
   ]
  },
  {
   "cell_type": "code",
   "execution_count": null,
   "metadata": {},
   "outputs": [],
   "source": [
    "lbl, cnt = np.unique(clustering.labels_, return_counts=True)\n",
    "[f'group : {group} - count : {count}' for group, count in zip(lbl, cnt)]"
   ]
  },
  {
   "cell_type": "markdown",
   "metadata": {},
   "source": [
    "#### 4. LSTM 오토인코더로 이상치 찾기"
   ]
  },
  {
   "cell_type": "code",
   "execution_count": null,
   "metadata": {},
   "outputs": [],
   "source": [
    "tf.random.set_seed(777)\n",
    "np.random.seed(777)"
   ]
  },
  {
   "cell_type": "code",
   "execution_count": null,
   "metadata": {},
   "outputs": [],
   "source": [
    "window_size = 10\n",
    "batch_size = 32\n",
    "features = ['Open','High','Low','Close','Volume']\n",
    "n_features = len(features)\n",
    "TRAIN_SIZE = int(len(df)*0.7)\n",
    "\n",
    "scaler = StandardScaler()\n",
    "scaler = scaler.fit(df.loc[:TRAIN_SIZE, features].values)\n",
    "scaled = scaler.transform(df[features].values)"
   ]
  },
  {
   "cell_type": "code",
   "execution_count": null,
   "metadata": {},
   "outputs": [],
   "source": [
    "train_gen = TimeseriesGenerator(\n",
    "    data = scaled,\n",
    "    targets = scaled,\n",
    "    length = window_size,\n",
    "    stride=1,\n",
    "    sampling_rate=1,\n",
    "    batch_size= batch_size,\n",
    "    shuffle=False,\n",
    "    start_index=0,\n",
    "    end_index=None,\n",
    ")\n",
    "\n",
    "valid_gen = TimeseriesGenerator(\n",
    "    data = scaled,\n",
    "    targets = scaled,\n",
    "    length = window_size,\n",
    "    stride=1,\n",
    "    sampling_rate=1,\n",
    "    batch_size=batch_size,\n",
    "    shuffle=False,\n",
    "    start_index=TRAIN_SIZE,\n",
    "    end_index=None,\n",
    ")\n",
    "\n",
    "print(train_gen[0][0].shape)\n",
    "print(train_gen[0][1].shape)"
   ]
  },
  {
   "cell_type": "code",
   "execution_count": null,
   "metadata": {},
   "outputs": [],
   "source": [
    "model = Sequential([\n",
    "    LSTM(64, activation='relu', return_sequences=True, input_shape=(window_size, n_features)),\n",
    "    LSTM(16, activation='relu', return_sequences=False),\n",
    "    \n",
    "    RepeatVector(window_size),\n",
    "    \n",
    "    LSTM(16, activation='relu', return_sequences=True),\n",
    "    LSTM(64, activation='relu', return_sequences=False),\n",
    "    Dense(n_features)\n",
    "])\n",
    "\n",
    "model.summary()"
   ]
  },
  {
   "cell_type": "code",
   "execution_count": null,
   "metadata": {},
   "outputs": [],
   "source": [
    "checkpoint_path = os.getenv('HOME')+'/Aiffel/20_anomaly_detection/nadaq/mymodel.ckpt'\n",
    "checkpoint = ModelCheckpoint(checkpoint_path, \n",
    "                             save_weights_only=True, \n",
    "                             save_best_only=True, \n",
    "                             monitor='val_loss',\n",
    "                             verbose=1)\n",
    "\n",
    "early_stop = EarlyStopping(monitor='val_loss', patience=5)\n",
    "\n",
    "model.compile(loss='mae', optimizer='adam',metrics=[\"mae\"])"
   ]
  },
  {
   "cell_type": "code",
   "execution_count": null,
   "metadata": {},
   "outputs": [],
   "source": [
    "hist = model.fit(train_gen, \n",
    "          validation_data=valid_gen,\n",
    "          steps_per_epoch=len(train_gen),\n",
    "          validation_steps=len(valid_gen),\n",
    "          epochs=50, \n",
    "          callbacks=[checkpoint, early_stop])"
   ]
  },
  {
   "cell_type": "code",
   "execution_count": null,
   "metadata": {},
   "outputs": [],
   "source": [
    "model.load_weights(checkpoint_path)"
   ]
  },
  {
   "cell_type": "code",
   "execution_count": null,
   "metadata": {},
   "outputs": [],
   "source": [
    "fig = plt.figure(figsize=(12,8))\n",
    "plt.plot(hist.history['loss'], label='Training')\n",
    "plt.plot(hist.history['val_loss'], label='Validation')\n",
    "plt.legend()"
   ]
  },
  {
   "cell_type": "code",
   "execution_count": null,
   "metadata": {},
   "outputs": [],
   "source": [
    "pred = model.predict(train_gen)\n",
    "real = scaled[window_size:]\n",
    "\n",
    "mae_loss = np.mean(np.abs(pred-real), axis=1)\n",
    "\n",
    "fig, ax = plt.subplots(figsize=(9,6))\n",
    "_ = plt.hist(mae_loss, 100, density=True, alpha=0.75, log=True)"
   ]
  },
  {
   "cell_type": "code",
   "execution_count": null,
   "metadata": {},
   "outputs": [],
   "source": [
    "import copy\n",
    "\n",
    "test_df = copy.deepcopy(df.loc[window_size:]).reset_index(drop=True)\n",
    "test_df['Loss'] = mae_loss\n",
    "\n",
    "threshold = 1.5\n",
    "test_df.loc[test_df.Loss>threshold]"
   ]
  },
  {
   "cell_type": "markdown",
   "metadata": {},
   "source": [
    "**threshold를 1.5로 주었을 때는 주식 시장이 폭락한 경우값이 이상치로 분류되었다**"
   ]
  },
  {
   "cell_type": "code",
   "execution_count": null,
   "metadata": {},
   "outputs": [],
   "source": [
    "threshold = 1.0\n",
    "test_df.loc[test_df.Loss>threshold]"
   ]
  },
  {
   "cell_type": "markdown",
   "metadata": {},
   "source": [
    "**threshold를 1.0으로 변경하여 주니 급등을 하는 시기도 분류가 되었다.**"
   ]
  },
  {
   "cell_type": "code",
   "execution_count": null,
   "metadata": {},
   "outputs": [],
   "source": [
    "fig = plt.figure(figsize=(12,15))\n",
    "\n",
    "# 가격들 그래프입니다\n",
    "ax = fig.add_subplot(311)\n",
    "ax.set_title('Open/Close')\n",
    "plt.plot(test_df.Date, test_df.Close, linewidth=0.5, alpha=0.75, label='Close')\n",
    "plt.plot(test_df.Date, test_df.Open, linewidth=0.5, alpha=0.75, label='Open')\n",
    "plt.plot(test_df.Date, test_df.Close, 'or', markevery=[mae_loss>threshold])\n",
    "\n",
    "# 거래량 그래프입니다\n",
    "ax = fig.add_subplot(312)\n",
    "ax.set_title('Volume')\n",
    "plt.plot(test_df.Date, test_df.Volume, linewidth=0.5, alpha=0.75, label='Volume')\n",
    "plt.plot(test_df.Date, test_df.Volume, 'or', markevery=[mae_loss>threshold])\n",
    "\n",
    "# 오차율 그래프입니다\n",
    "ax = fig.add_subplot(313)\n",
    "ax.set_title('Loss')\n",
    "plt.plot(test_df.Date, test_df.Loss, linewidth=0.5, alpha=0.75, label='Loss')\n",
    "plt.plot(test_df.Date, test_df.Loss, 'or', markevery=[mae_loss>threshold])"
   ]
  },
  {
   "cell_type": "markdown",
   "metadata": {},
   "source": [
    "#### 5. 고찰 \n",
    "- 이전까지는 데이터를 직접확인하여 극단치값을 제거하여 주는 작업만 수행하였는데 이번 프로젝트를 통해 이상치값이 극단치인지 그리고 특이치인지에 따라 수행해야 하는 방법이 다르다는 것을 알게되었고 또한 이상치를 찾는 다양한 방법과 도메인 지식의 중요성을 알 수 있는 프로젝트였다. "
   ]
  }
 ],
 "metadata": {
  "kernelspec": {
   "display_name": "aiffel",
   "language": "python",
   "name": "aiffel"
  },
  "language_info": {
   "codemirror_mode": {
    "name": "ipython",
    "version": 3
   },
   "file_extension": ".py",
   "mimetype": "text/x-python",
   "name": "python",
   "nbconvert_exporter": "python",
   "pygments_lexer": "ipython3",
   "version": "3.7.6"
  }
 },
 "nbformat": 4,
 "nbformat_minor": 4
}
