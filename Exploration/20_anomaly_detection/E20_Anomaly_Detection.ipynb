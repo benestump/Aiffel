{
 "cells": [
  {
   "cell_type": "code",
   "execution_count": 50,
   "metadata": {},
   "outputs": [],
   "source": [
    "import pandas as pd\n",
    "import os\n",
    "import matplotlib.pyplot as plt\n",
    "from matplotlib.pylab import rcParams\n",
    "from scipy.stats import norm\n",
    "import numpy as np\n",
    "from statsmodels.stats.weightstats import ztest\n",
    "from statsmodels.tsa.seasonal import seasonal_decompose\n",
    "from sklearn.preprocessing import StandardScaler\n",
    "from sklearn.cluster import KMeans"
   ]
  },
  {
   "cell_type": "code",
   "execution_count": 4,
   "metadata": {},
   "outputs": [
    {
     "data": {
      "text/html": [
       "<div>\n",
       "<style scoped>\n",
       "    .dataframe tbody tr th:only-of-type {\n",
       "        vertical-align: middle;\n",
       "    }\n",
       "\n",
       "    .dataframe tbody tr th {\n",
       "        vertical-align: top;\n",
       "    }\n",
       "\n",
       "    .dataframe thead th {\n",
       "        text-align: right;\n",
       "    }\n",
       "</style>\n",
       "<table border=\"1\" class=\"dataframe\">\n",
       "  <thead>\n",
       "    <tr style=\"text-align: right;\">\n",
       "      <th></th>\n",
       "      <th>Date</th>\n",
       "      <th>Open</th>\n",
       "      <th>High</th>\n",
       "      <th>Low</th>\n",
       "      <th>Close</th>\n",
       "      <th>Adj Close</th>\n",
       "      <th>Volume</th>\n",
       "    </tr>\n",
       "  </thead>\n",
       "  <tbody>\n",
       "    <tr>\n",
       "      <th>6166</th>\n",
       "      <td>2020-10-20</td>\n",
       "      <td>11697.500000</td>\n",
       "      <td>11792.000000</td>\n",
       "      <td>11598.5</td>\n",
       "      <td>11660.799805</td>\n",
       "      <td>11660.799805</td>\n",
       "      <td>622702.0</td>\n",
       "    </tr>\n",
       "    <tr>\n",
       "      <th>6167</th>\n",
       "      <td>2020-10-21</td>\n",
       "      <td>11675.200195</td>\n",
       "      <td>11779.200195</td>\n",
       "      <td>11585.0</td>\n",
       "      <td>11691.200195</td>\n",
       "      <td>11691.200195</td>\n",
       "      <td>599851.0</td>\n",
       "    </tr>\n",
       "    <tr>\n",
       "      <th>6168</th>\n",
       "      <td>2020-10-22</td>\n",
       "      <td>11683.500000</td>\n",
       "      <td>11724.000000</td>\n",
       "      <td>11511.0</td>\n",
       "      <td>11649.799805</td>\n",
       "      <td>11649.799805</td>\n",
       "      <td>583669.0</td>\n",
       "    </tr>\n",
       "    <tr>\n",
       "      <th>6169</th>\n",
       "      <td>2020-10-23</td>\n",
       "      <td>11669.200195</td>\n",
       "      <td>11691.799805</td>\n",
       "      <td>11551.0</td>\n",
       "      <td>11663.500000</td>\n",
       "      <td>11663.500000</td>\n",
       "      <td>583669.0</td>\n",
       "    </tr>\n",
       "    <tr>\n",
       "      <th>6170</th>\n",
       "      <td>2020-10-25</td>\n",
       "      <td>NaN</td>\n",
       "      <td>NaN</td>\n",
       "      <td>NaN</td>\n",
       "      <td>NaN</td>\n",
       "      <td>NaN</td>\n",
       "      <td>NaN</td>\n",
       "    </tr>\n",
       "  </tbody>\n",
       "</table>\n",
       "</div>"
      ],
      "text/plain": [
       "            Date          Open          High      Low         Close  \\\n",
       "6166  2020-10-20  11697.500000  11792.000000  11598.5  11660.799805   \n",
       "6167  2020-10-21  11675.200195  11779.200195  11585.0  11691.200195   \n",
       "6168  2020-10-22  11683.500000  11724.000000  11511.0  11649.799805   \n",
       "6169  2020-10-23  11669.200195  11691.799805  11551.0  11663.500000   \n",
       "6170  2020-10-25           NaN           NaN      NaN           NaN   \n",
       "\n",
       "         Adj Close    Volume  \n",
       "6166  11660.799805  622702.0  \n",
       "6167  11691.200195  599851.0  \n",
       "6168  11649.799805  583669.0  \n",
       "6169  11663.500000  583669.0  \n",
       "6170           NaN       NaN  "
      ]
     },
     "execution_count": 4,
     "metadata": {},
     "output_type": "execute_result"
    }
   ],
   "source": [
    "csv_file = os.getenv('HOME') + '/Aiffel/Exploration/20_anomaly_detection/nasdaq/nasdaq.csv'\n",
    "\n",
    "df = pd.read_csv(csv_file)\n",
    "df.tail()"
   ]
  },
  {
   "cell_type": "code",
   "execution_count": 5,
   "metadata": {},
   "outputs": [
    {
     "name": "stdout",
     "output_type": "stream",
     "text": [
      "<class 'pandas.core.frame.DataFrame'>\n",
      "RangeIndex: 6171 entries, 0 to 6170\n",
      "Data columns (total 7 columns):\n",
      " #   Column     Non-Null Count  Dtype  \n",
      "---  ------     --------------  -----  \n",
      " 0   Date       6171 non-null   object \n",
      " 1   Open       5098 non-null   float64\n",
      " 2   High       5098 non-null   float64\n",
      " 3   Low        5098 non-null   float64\n",
      " 4   Close      5098 non-null   float64\n",
      " 5   Adj Close  5098 non-null   float64\n",
      " 6   Volume     5098 non-null   float64\n",
      "dtypes: float64(6), object(1)\n",
      "memory usage: 337.6+ KB\n"
     ]
    }
   ],
   "source": [
    "df.info()"
   ]
  },
  {
   "cell_type": "code",
   "execution_count": 6,
   "metadata": {},
   "outputs": [],
   "source": [
    "df.loc[:, 'Date'] = pd.to_datetime(df.Date)"
   ]
  },
  {
   "cell_type": "code",
   "execution_count": 7,
   "metadata": {},
   "outputs": [
    {
     "data": {
      "text/plain": [
       "Date            0\n",
       "Open         1073\n",
       "High         1073\n",
       "Low          1073\n",
       "Close        1073\n",
       "Adj Close    1073\n",
       "Volume       1073\n",
       "dtype: int64"
      ]
     },
     "execution_count": 7,
     "metadata": {},
     "output_type": "execute_result"
    }
   ],
   "source": [
    "df.isna().sum()"
   ]
  },
  {
   "cell_type": "code",
   "execution_count": 8,
   "metadata": {},
   "outputs": [
    {
     "name": "stdout",
     "output_type": "stream",
     "text": [
      "삭제 전 데이터 길이 : 6171\n",
      "삭제 후 데이터 길이 : 5098\n"
     ]
    },
    {
     "data": {
      "text/plain": [
       "Date         0\n",
       "Open         0\n",
       "High         0\n",
       "Low          0\n",
       "Close        0\n",
       "Adj Close    0\n",
       "Volume       0\n",
       "dtype: int64"
      ]
     },
     "execution_count": 8,
     "metadata": {},
     "output_type": "execute_result"
    }
   ],
   "source": [
    "print(f'삭제 전 데이터 길이 : {len(df)}')\n",
    "df = df.dropna(axis=0).reset_index(drop=True)\n",
    "\n",
    "print(f'삭제 후 데이터 길이 : {len(df)}')\n",
    "df.isna().sum()"
   ]
  },
  {
   "cell_type": "code",
   "execution_count": 11,
   "metadata": {},
   "outputs": [
    {
     "data": {
      "image/png": "[encoded data removed]",
      "text/plain": [
       "<Figure size 864x360 with 1 Axes>"
      ]
     },
     "metadata": {
      "needs_background": "light"
     },
     "output_type": "display_data"
    }
   ],
   "source": [
    "plt.rcParams['figure.figsize'] =(12, 5)\n",
    "\n",
    "plt.plot(df.Date, df.Close, marker='s', color='r')\n",
    "plt.plot(df.Date, df.High, marker='o', color='g')\n",
    "plt.plot(df.Date, df.Low, marker='*', color='b')\n",
    "plt.plot(df.Date, df.Open, marker='+', color='y')\n",
    "\n",
    "plt.title('NASDDAQ', fontsize=20)\n",
    "plt.ylabel('Stock', fontsize=14)\n",
    "plt.xlabel('Date', fontsize=14)\n",
    "plt.legend(['Colse', 'High', 'Low', 'Open'], fontsize=12, loc='best')\n",
    "\n",
    "plt.show()"
   ]
  },
  {
   "cell_type": "code",
   "execution_count": 26,
   "metadata": {},
   "outputs": [
    {
     "data": {
      "image/png": "[encoded data removed]",
      "text/plain": [
       "<Figure size 864x360 with 1 Axes>"
      ]
     },
     "metadata": {
      "needs_background": "light"
     },
     "output_type": "display_data"
    }
   ],
   "source": [
    "_ = plt.hist(df.Close, 100, density=True, alpha=0.75)"
   ]
  },
  {
   "cell_type": "code",
   "execution_count": 27,
   "metadata": {},
   "outputs": [
    {
     "name": "stdout",
     "output_type": "stream",
     "text": [
      "0.0\n"
     ]
    }
   ],
   "source": [
    "from statsmodels.stats.weightstats import ztest\n",
    "_, p = ztest(df.Close)\n",
    "print(p)"
   ]
  },
  {
   "cell_type": "code",
   "execution_count": 28,
   "metadata": {},
   "outputs": [
    {
     "data": {
      "image/png": "[encoded data removed]",
      "text/plain": [
       "<Figure size 864x360 with 4 Axes>"
      ]
     },
     "metadata": {
      "needs_background": "light"
     },
     "output_type": "display_data"
    }
   ],
   "source": [
    "result = seasonal_decompose(df.Close, model='additive', two_sided=True, period=50, extrapolate_trend='freq')\n",
    "result.plot()\n",
    "plt.show()"
   ]
  },
  {
   "cell_type": "code",
   "execution_count": 31,
   "metadata": {},
   "outputs": [
    {
     "data": {
      "image/png": "[encoded data removed]",
      "text/plain": [
       "<Figure size 864x648 with 4 Axes>"
      ]
     },
     "metadata": {
      "needs_background": "light"
     },
     "output_type": "display_data"
    }
   ],
   "source": [
    "fig, axes = plt.subplots(ncols=1, nrows=4, sharex=True, figsize=(12, 9))\n",
    "result.observed.plot(ax=axes[0], legend=False)\n",
    "axes[0].set_ylabel('Observed')\n",
    "result.trend.plot(ax=axes[1], legend=False)\n",
    "axes[1].set_ylabel('Trend')\n",
    "result.seasonal.plot(ax=axes[2], legend=False)\n",
    "axes[2].set_ylabel('Seasonal')\n",
    "result.resid.plot(ax=axes[3], legend=False)\n",
    "axes[3].set_ylabel('Residual')\n",
    "plt.show()"
   ]
  },
  {
   "cell_type": "code",
   "execution_count": 32,
   "metadata": {},
   "outputs": [
    {
     "data": {
      "text/plain": [
       "<AxesSubplot:>"
      ]
     },
     "execution_count": 32,
     "metadata": {},
     "output_type": "execute_result"
    },
    {
     "data": {
      "image/png": "[encoded data removed]",
      "text/plain": [
       "<Figure size 864x360 with 1 Axes>"
      ]
     },
     "metadata": {
      "needs_background": "light"
     },
     "output_type": "display_data"
    }
   ],
   "source": [
    "result.seasonal[:100].plot()"
   ]
  },
  {
   "cell_type": "code",
   "execution_count": 33,
   "metadata": {},
   "outputs": [
    {
     "data": {
      "image/png": "[encoded data removed]",
      "text/plain": [
       "<Figure size 648x432 with 1 Axes>"
      ]
     },
     "metadata": {
      "needs_background": "light"
     },
     "output_type": "display_data"
    }
   ],
   "source": [
    "fig, ax = plt.subplots(figsize=(9, 6))\n",
    "_ = plt.hist(result.resid, 100, density=True, alpha=0.75)"
   ]
  },
  {
   "cell_type": "code",
   "execution_count": 36,
   "metadata": {},
   "outputs": [
    {
     "name": "stdout",
     "output_type": "stream",
     "text": [
      "-0.8390076883668717 0.4014649952251901\n"
     ]
    }
   ],
   "source": [
    "r = result.resid.values\n",
    "st, p = ztest(r)\n",
    "print(st, p)"
   ]
  },
  {
   "cell_type": "code",
   "execution_count": 39,
   "metadata": {},
   "outputs": [
    {
     "name": "stdout",
     "output_type": "stream",
     "text": [
      "평균: -1.2913972051413372 표준편차: 109.8990193543672\n",
      "이상치 갯수: 92\n"
     ]
    }
   ],
   "source": [
    "mu, std = result.resid.mean(), result.resid.std()\n",
    "print('평균:', mu, '표준편차:', std)\n",
    "\n",
    "print('이상치 갯수:', len(result.resid[(result.resid>mu+3*std)|(result.resid<mu-3*std)]))"
   ]
  },
  {
   "cell_type": "code",
   "execution_count": 44,
   "metadata": {},
   "outputs": [],
   "source": [
    "ls = list(df.Date[result.resid[\n",
    "    (result.resid>mu+3*std)|(result.resid<mu-3*std)].index])"
   ]
  },
  {
   "cell_type": "code",
   "execution_count": 45,
   "metadata": {},
   "outputs": [
    {
     "name": "stdout",
     "output_type": "stream",
     "text": [
      "[Timestamp('2000-12-20 00:00:00'), Timestamp('2001-01-02 00:00:00'), Timestamp('2001-01-29 00:00:00'), Timestamp('2001-01-30 00:00:00'), Timestamp('2001-04-03 00:00:00'), Timestamp('2001-04-04 00:00:00'), Timestamp('2015-08-24 00:00:00'), Timestamp('2015-08-25 00:00:00'), Timestamp('2018-02-08 00:00:00'), Timestamp('2018-02-09 00:00:00'), Timestamp('2018-03-09 00:00:00'), Timestamp('2018-03-12 00:00:00'), Timestamp('2018-04-02 00:00:00'), Timestamp('2018-10-29 00:00:00'), Timestamp('2018-12-03 00:00:00'), Timestamp('2018-12-21 00:00:00'), Timestamp('2018-12-26 00:00:00'), Timestamp('2018-12-28 00:00:00'), Timestamp('2019-01-03 00:00:00'), Timestamp('2019-05-29 00:00:00'), Timestamp('2019-05-31 00:00:00'), Timestamp('2019-06-03 00:00:00'), Timestamp('2019-06-04 00:00:00'), Timestamp('2019-06-05 00:00:00'), Timestamp('2019-08-05 00:00:00'), Timestamp('2020-02-10 00:00:00'), Timestamp('2020-02-11 00:00:00'), Timestamp('2020-02-12 00:00:00'), Timestamp('2020-02-13 00:00:00'), Timestamp('2020-02-14 00:00:00'), Timestamp('2020-02-16 00:00:00'), Timestamp('2020-02-18 00:00:00'), Timestamp('2020-02-19 00:00:00'), Timestamp('2020-02-20 00:00:00'), Timestamp('2020-02-21 00:00:00'), Timestamp('2020-02-23 00:00:00'), Timestamp('2020-02-24 00:00:00'), Timestamp('2020-03-04 00:00:00'), Timestamp('2020-03-09 00:00:00'), Timestamp('2020-03-12 00:00:00'), Timestamp('2020-03-15 00:00:00'), Timestamp('2020-03-16 00:00:00'), Timestamp('2020-03-17 00:00:00'), Timestamp('2020-03-18 00:00:00'), Timestamp('2020-03-19 00:00:00'), Timestamp('2020-03-20 00:00:00'), Timestamp('2020-03-22 00:00:00'), Timestamp('2020-03-23 00:00:00'), Timestamp('2020-03-24 00:00:00'), Timestamp('2020-03-25 00:00:00'), Timestamp('2020-03-27 00:00:00'), Timestamp('2020-03-29 00:00:00'), Timestamp('2020-04-01 00:00:00'), Timestamp('2020-04-02 00:00:00'), Timestamp('2020-04-03 00:00:00'), Timestamp('2020-04-14 00:00:00'), Timestamp('2020-04-15 00:00:00'), Timestamp('2020-04-16 00:00:00'), Timestamp('2020-04-17 00:00:00'), Timestamp('2020-04-19 00:00:00'), Timestamp('2020-06-28 00:00:00'), Timestamp('2020-07-10 00:00:00'), Timestamp('2020-07-12 00:00:00'), Timestamp('2020-07-26 00:00:00'), Timestamp('2020-07-28 00:00:00'), Timestamp('2020-08-24 00:00:00'), Timestamp('2020-08-25 00:00:00'), Timestamp('2020-08-26 00:00:00'), Timestamp('2020-08-27 00:00:00'), Timestamp('2020-08-28 00:00:00'), Timestamp('2020-08-30 00:00:00'), Timestamp('2020-08-31 00:00:00'), Timestamp('2020-09-01 00:00:00'), Timestamp('2020-09-02 00:00:00'), Timestamp('2020-09-03 00:00:00'), Timestamp('2020-09-08 00:00:00'), Timestamp('2020-09-11 00:00:00'), Timestamp('2020-09-17 00:00:00'), Timestamp('2020-09-18 00:00:00'), Timestamp('2020-09-21 00:00:00'), Timestamp('2020-09-22 00:00:00'), Timestamp('2020-09-23 00:00:00'), Timestamp('2020-09-24 00:00:00'), Timestamp('2020-09-25 00:00:00'), Timestamp('2020-09-29 00:00:00'), Timestamp('2020-09-30 00:00:00'), Timestamp('2020-10-02 00:00:00'), Timestamp('2020-10-05 00:00:00'), Timestamp('2020-10-06 00:00:00'), Timestamp('2020-10-07 00:00:00'), Timestamp('2020-10-22 00:00:00'), Timestamp('2020-10-23 00:00:00')]\n"
     ]
    }
   ],
   "source": [
    "print(ls)"
   ]
  },
  {
   "cell_type": "code",
   "execution_count": 46,
   "metadata": {},
   "outputs": [
    {
     "data": {
      "text/html": [
       "<div>\n",
       "<style scoped>\n",
       "    .dataframe tbody tr th:only-of-type {\n",
       "        vertical-align: middle;\n",
       "    }\n",
       "\n",
       "    .dataframe tbody tr th {\n",
       "        vertical-align: top;\n",
       "    }\n",
       "\n",
       "    .dataframe thead th {\n",
       "        text-align: right;\n",
       "    }\n",
       "</style>\n",
       "<table border=\"1\" class=\"dataframe\">\n",
       "  <thead>\n",
       "    <tr style=\"text-align: right;\">\n",
       "      <th></th>\n",
       "      <th>Open</th>\n",
       "      <th>High</th>\n",
       "      <th>Low</th>\n",
       "      <th>Close</th>\n",
       "      <th>Volume</th>\n",
       "    </tr>\n",
       "  </thead>\n",
       "  <tbody>\n",
       "    <tr>\n",
       "      <th>count</th>\n",
       "      <td>5098.000000</td>\n",
       "      <td>5098.000000</td>\n",
       "      <td>5098.000000</td>\n",
       "      <td>5098.000000</td>\n",
       "      <td>5098.000000</td>\n",
       "    </tr>\n",
       "    <tr>\n",
       "      <th>mean</th>\n",
       "      <td>3330.724999</td>\n",
       "      <td>3362.220146</td>\n",
       "      <td>3298.532406</td>\n",
       "      <td>3332.609090</td>\n",
       "      <td>288057.188854</td>\n",
       "    </tr>\n",
       "    <tr>\n",
       "      <th>std</th>\n",
       "      <td>2400.892883</td>\n",
       "      <td>2422.863050</td>\n",
       "      <td>2379.665832</td>\n",
       "      <td>2404.825139</td>\n",
       "      <td>109834.091507</td>\n",
       "    </tr>\n",
       "    <tr>\n",
       "      <th>min</th>\n",
       "      <td>914.415000</td>\n",
       "      <td>934.695000</td>\n",
       "      <td>895.770000</td>\n",
       "      <td>915.335000</td>\n",
       "      <td>64880.520000</td>\n",
       "    </tr>\n",
       "    <tr>\n",
       "      <th>25%</th>\n",
       "      <td>1584.407500</td>\n",
       "      <td>1597.671250</td>\n",
       "      <td>1571.153750</td>\n",
       "      <td>1584.352001</td>\n",
       "      <td>220586.700000</td>\n",
       "    </tr>\n",
       "    <tr>\n",
       "      <th>50%</th>\n",
       "      <td>2264.797500</td>\n",
       "      <td>2292.105000</td>\n",
       "      <td>2232.207500</td>\n",
       "      <td>2265.174199</td>\n",
       "      <td>268932.110000</td>\n",
       "    </tr>\n",
       "    <tr>\n",
       "      <th>75%</th>\n",
       "      <td>4434.168125</td>\n",
       "      <td>4466.316875</td>\n",
       "      <td>4401.132500</td>\n",
       "      <td>4435.347500</td>\n",
       "      <td>319674.830000</td>\n",
       "    </tr>\n",
       "    <tr>\n",
       "      <th>max</th>\n",
       "      <td>12039.860297</td>\n",
       "      <td>12201.437499</td>\n",
       "      <td>11870.369861</td>\n",
       "      <td>12047.090432</td>\n",
       "      <td>776809.340000</td>\n",
       "    </tr>\n",
       "  </tbody>\n",
       "</table>\n",
       "</div>"
      ],
      "text/plain": [
       "               Open          High           Low         Close         Volume\n",
       "count   5098.000000   5098.000000   5098.000000   5098.000000    5098.000000\n",
       "mean    3330.724999   3362.220146   3298.532406   3332.609090  288057.188854\n",
       "std     2400.892883   2422.863050   2379.665832   2404.825139  109834.091507\n",
       "min      914.415000    934.695000    895.770000    915.335000   64880.520000\n",
       "25%     1584.407500   1597.671250   1571.153750   1584.352001  220586.700000\n",
       "50%     2264.797500   2292.105000   2232.207500   2265.174199  268932.110000\n",
       "75%     4434.168125   4466.316875   4401.132500   4435.347500  319674.830000\n",
       "max    12039.860297  12201.437499  11870.369861  12047.090432  776809.340000"
      ]
     },
     "execution_count": 46,
     "metadata": {},
     "output_type": "execute_result"
    }
   ],
   "source": [
    "def my_decompose(df, features, freq=50):\n",
    "    trend = pd.DataFrame()\n",
    "    seasonal = pd.DataFrame()\n",
    "    resid = pd.DataFrame()\n",
    "    \n",
    "    for f in features:\n",
    "        result = seasonal_decompose(df[f], model='additive', period=freq, extrapolate_trend=freq)\n",
    "        trend[f] = result.trend.values\n",
    "        seasonal[f] = result.seasonal.values\n",
    "        resid[f] = result.resid.values\n",
    "        \n",
    "    return trend, seasonal, resid\n",
    "\n",
    "tdf, sdf, rdf = my_decompose(df, features=['Open', 'High', 'Low', 'Close', 'Volume'])\n",
    "tdf.describe()"
   ]
  },
  {
   "cell_type": "code",
   "execution_count": 47,
   "metadata": {},
   "outputs": [
    {
     "data": {
      "text/html": [
       "<div>\n",
       "<style scoped>\n",
       "    .dataframe tbody tr th:only-of-type {\n",
       "        vertical-align: middle;\n",
       "    }\n",
       "\n",
       "    .dataframe tbody tr th {\n",
       "        vertical-align: top;\n",
       "    }\n",
       "\n",
       "    .dataframe thead th {\n",
       "        text-align: right;\n",
       "    }\n",
       "</style>\n",
       "<table border=\"1\" class=\"dataframe\">\n",
       "  <thead>\n",
       "    <tr style=\"text-align: right;\">\n",
       "      <th></th>\n",
       "      <th>Open</th>\n",
       "      <th>High</th>\n",
       "      <th>Low</th>\n",
       "      <th>Close</th>\n",
       "      <th>Volume</th>\n",
       "    </tr>\n",
       "  </thead>\n",
       "  <tbody>\n",
       "    <tr>\n",
       "      <th>count</th>\n",
       "      <td>5098.000000</td>\n",
       "      <td>5098.000000</td>\n",
       "      <td>5098.000000</td>\n",
       "      <td>5098.000000</td>\n",
       "      <td>5098.000000</td>\n",
       "    </tr>\n",
       "    <tr>\n",
       "      <th>mean</th>\n",
       "      <td>-1.361168</td>\n",
       "      <td>-1.421971</td>\n",
       "      <td>-1.241082</td>\n",
       "      <td>-1.314223</td>\n",
       "      <td>155.136515</td>\n",
       "    </tr>\n",
       "    <tr>\n",
       "      <th>std</th>\n",
       "      <td>112.249407</td>\n",
       "      <td>102.051145</td>\n",
       "      <td>116.463672</td>\n",
       "      <td>110.054996</td>\n",
       "      <td>110706.241180</td>\n",
       "    </tr>\n",
       "    <tr>\n",
       "      <th>min</th>\n",
       "      <td>-1280.580676</td>\n",
       "      <td>-1494.706438</td>\n",
       "      <td>-1226.976539</td>\n",
       "      <td>-1390.196689</td>\n",
       "      <td>-602731.340129</td>\n",
       "    </tr>\n",
       "    <tr>\n",
       "      <th>25%</th>\n",
       "      <td>-38.117788</td>\n",
       "      <td>-35.393102</td>\n",
       "      <td>-38.318769</td>\n",
       "      <td>-37.788724</td>\n",
       "      <td>-53311.671523</td>\n",
       "    </tr>\n",
       "    <tr>\n",
       "      <th>50%</th>\n",
       "      <td>3.476876</td>\n",
       "      <td>3.331959</td>\n",
       "      <td>4.089242</td>\n",
       "      <td>2.923191</td>\n",
       "      <td>-488.997470</td>\n",
       "    </tr>\n",
       "    <tr>\n",
       "      <th>75%</th>\n",
       "      <td>40.164011</td>\n",
       "      <td>37.638459</td>\n",
       "      <td>41.675332</td>\n",
       "      <td>40.863314</td>\n",
       "      <td>51480.694345</td>\n",
       "    </tr>\n",
       "    <tr>\n",
       "      <th>max</th>\n",
       "      <td>996.954616</td>\n",
       "      <td>933.609579</td>\n",
       "      <td>944.823580</td>\n",
       "      <td>996.320780</td>\n",
       "      <td>810713.135421</td>\n",
       "    </tr>\n",
       "  </tbody>\n",
       "</table>\n",
       "</div>"
      ],
      "text/plain": [
       "              Open         High          Low        Close         Volume\n",
       "count  5098.000000  5098.000000  5098.000000  5098.000000    5098.000000\n",
       "mean     -1.361168    -1.421971    -1.241082    -1.314223     155.136515\n",
       "std     112.249407   102.051145   116.463672   110.054996  110706.241180\n",
       "min   -1280.580676 -1494.706438 -1226.976539 -1390.196689 -602731.340129\n",
       "25%     -38.117788   -35.393102   -38.318769   -37.788724  -53311.671523\n",
       "50%       3.476876     3.331959     4.089242     2.923191    -488.997470\n",
       "75%      40.164011    37.638459    41.675332    40.863314   51480.694345\n",
       "max     996.954616   933.609579   944.823580   996.320780  810713.135421"
      ]
     },
     "execution_count": 47,
     "metadata": {},
     "output_type": "execute_result"
    }
   ],
   "source": [
    "rdf.describe()"
   ]
  },
  {
   "cell_type": "code",
   "execution_count": 49,
   "metadata": {},
   "outputs": [
    {
     "name": "stdout",
     "output_type": "stream",
     "text": [
      "[ -1.36116811  -1.42197139  -1.24108161  -1.31422283 155.13651478]\n"
     ]
    },
    {
     "data": {
      "text/plain": [
       "array([[ 0.94892246,  0.84646493,  0.81728626,  0.60184276,  0.08322602],\n",
       "       [ 0.49026957,  1.28420778,  1.38842808,  2.09551792,  0.10454779],\n",
       "       [ 1.90750707,  2.01838985,  2.0481367 ,  2.7378712 , -0.08888583],\n",
       "       ...,\n",
       "       [-2.9355638 , -3.75950684, -2.18973446, -2.93558305,  0.44805172],\n",
       "       [-3.02900188, -4.45234664, -3.01260131, -3.46542972,  0.39484453],\n",
       "       [-3.32615554, -5.03188414, -2.82731937, -3.56760069,  0.48127544]])"
      ]
     },
     "execution_count": 49,
     "metadata": {},
     "output_type": "execute_result"
    }
   ],
   "source": [
    "scaler = StandardScaler()\n",
    "scaler.fit(rdf)\n",
    "print(scaler.mean_)\n",
    "norm_rdf = scaler.transform(rdf)\n",
    "norm_rdf"
   ]
  },
  {
   "cell_type": "code",
   "execution_count": 51,
   "metadata": {},
   "outputs": [
    {
     "name": "stdout",
     "output_type": "stream",
     "text": [
      "[1 1 1 ... 0 0 0]\n"
     ]
    }
   ],
   "source": [
    "kmeans = KMeans(n_clusters=2, random_state=0).fit(norm_rdf)\n",
    "print(kmeans.labels_)"
   ]
  },
  {
   "cell_type": "code",
   "execution_count": 52,
   "metadata": {},
   "outputs": [
    {
     "name": "stdout",
     "output_type": "stream",
     "text": [
      "[0 1]\n",
      "[1099 3999]\n"
     ]
    }
   ],
   "source": [
    "lbl, cnt = np.unique(kmeans.labels_, return_counts=True)\n",
    "print(lbl)\n",
    "print(cnt)"
   ]
  },
  {
   "cell_type": "code",
   "execution_count": 55,
   "metadata": {},
   "outputs": [
    {
     "data": {
      "text/plain": [
       "['group : 0 - count : 1008',\n",
       " 'group : 1 - count : 66',\n",
       " 'group : 2 - count : 1097',\n",
       " 'group : 3 - count : 18',\n",
       " 'group : 4 - count : 296',\n",
       " 'group : 5 - count : 495',\n",
       " 'group : 6 - count : 459',\n",
       " 'group : 7 - count : 33',\n",
       " 'group : 8 - count : 19',\n",
       " 'group : 9 - count : 831',\n",
       " 'group : 10 - count : 331',\n",
       " 'group : 11 - count : 98',\n",
       " 'group : 12 - count : 11',\n",
       " 'group : 13 - count : 98',\n",
       " 'group : 14 - count : 238']"
      ]
     },
     "execution_count": 55,
     "metadata": {},
     "output_type": "execute_result"
    }
   ],
   "source": [
    "kmeans=KMeans(n_clusters=15, random_state=0).fit(norm_rdf)\n",
    "lbl, cnt = np.unique(kmeans.labels_, return_counts=True)\n",
    "[f'group : {group} - count : {count}' for group, count in zip(lbl, cnt)]"
   ]
  },
  {
   "cell_type": "code",
   "execution_count": 65,
   "metadata": {},
   "outputs": [
    {
     "data": {
      "text/html": [
       "<div>\n",
       "<style scoped>\n",
       "    .dataframe tbody tr th:only-of-type {\n",
       "        vertical-align: middle;\n",
       "    }\n",
       "\n",
       "    .dataframe tbody tr th {\n",
       "        vertical-align: top;\n",
       "    }\n",
       "\n",
       "    .dataframe thead th {\n",
       "        text-align: right;\n",
       "    }\n",
       "</style>\n",
       "<table border=\"1\" class=\"dataframe\">\n",
       "  <thead>\n",
       "    <tr style=\"text-align: right;\">\n",
       "      <th></th>\n",
       "      <th>Date</th>\n",
       "      <th>Open</th>\n",
       "      <th>High</th>\n",
       "      <th>Low</th>\n",
       "      <th>Close</th>\n",
       "      <th>Adj Close</th>\n",
       "      <th>Volume</th>\n",
       "    </tr>\n",
       "  </thead>\n",
       "  <tbody>\n",
       "    <tr>\n",
       "      <th>4891</th>\n",
       "      <td>2020-02-11</td>\n",
       "      <td>9525.000000</td>\n",
       "      <td>9609.500000</td>\n",
       "      <td>9501.250000</td>\n",
       "      <td>9527.250000</td>\n",
       "      <td>9527.250000</td>\n",
       "      <td>589570.0</td>\n",
       "    </tr>\n",
       "    <tr>\n",
       "      <th>4892</th>\n",
       "      <td>2020-02-12</td>\n",
       "      <td>9536.250000</td>\n",
       "      <td>9628.250000</td>\n",
       "      <td>9523.750000</td>\n",
       "      <td>9625.750000</td>\n",
       "      <td>9625.750000</td>\n",
       "      <td>454472.0</td>\n",
       "    </tr>\n",
       "    <tr>\n",
       "      <th>4893</th>\n",
       "      <td>2020-02-13</td>\n",
       "      <td>9621.500000</td>\n",
       "      <td>9644.750000</td>\n",
       "      <td>9511.250000</td>\n",
       "      <td>9613.000000</td>\n",
       "      <td>9613.000000</td>\n",
       "      <td>613580.0</td>\n",
       "    </tr>\n",
       "    <tr>\n",
       "      <th>4894</th>\n",
       "      <td>2020-02-14</td>\n",
       "      <td>9626.250000</td>\n",
       "      <td>9659.250000</td>\n",
       "      <td>9588.000000</td>\n",
       "      <td>9632.250000</td>\n",
       "      <td>9632.250000</td>\n",
       "      <td>489387.0</td>\n",
       "    </tr>\n",
       "    <tr>\n",
       "      <th>4895</th>\n",
       "      <td>2020-02-16</td>\n",
       "      <td>9635.000000</td>\n",
       "      <td>9668.750000</td>\n",
       "      <td>9634.250000</td>\n",
       "      <td>9663.750000</td>\n",
       "      <td>9663.750000</td>\n",
       "      <td>297278.0</td>\n",
       "    </tr>\n",
       "    <tr>\n",
       "      <th>4896</th>\n",
       "      <td>2020-02-18</td>\n",
       "      <td>9635.000000</td>\n",
       "      <td>9687.500000</td>\n",
       "      <td>9534.250000</td>\n",
       "      <td>9636.000000</td>\n",
       "      <td>9636.000000</td>\n",
       "      <td>668505.0</td>\n",
       "    </tr>\n",
       "    <tr>\n",
       "      <th>4897</th>\n",
       "      <td>2020-02-19</td>\n",
       "      <td>9643.250000</td>\n",
       "      <td>9748.750000</td>\n",
       "      <td>9641.250000</td>\n",
       "      <td>9733.500000</td>\n",
       "      <td>9733.500000</td>\n",
       "      <td>419130.0</td>\n",
       "    </tr>\n",
       "    <tr>\n",
       "      <th>4898</th>\n",
       "      <td>2020-02-20</td>\n",
       "      <td>9744.750000</td>\n",
       "      <td>9763.000000</td>\n",
       "      <td>9517.000000</td>\n",
       "      <td>9624.250000</td>\n",
       "      <td>9624.250000</td>\n",
       "      <td>802424.0</td>\n",
       "    </tr>\n",
       "    <tr>\n",
       "      <th>4899</th>\n",
       "      <td>2020-02-21</td>\n",
       "      <td>9617.250000</td>\n",
       "      <td>9623.750000</td>\n",
       "      <td>9411.500000</td>\n",
       "      <td>9458.000000</td>\n",
       "      <td>9458.000000</td>\n",
       "      <td>911839.0</td>\n",
       "    </tr>\n",
       "    <tr>\n",
       "      <th>4900</th>\n",
       "      <td>2020-02-23</td>\n",
       "      <td>9355.250000</td>\n",
       "      <td>9365.000000</td>\n",
       "      <td>9289.000000</td>\n",
       "      <td>9315.000000</td>\n",
       "      <td>9315.000000</td>\n",
       "      <td>995989.0</td>\n",
       "    </tr>\n",
       "    <tr>\n",
       "      <th>4917</th>\n",
       "      <td>2020-03-13</td>\n",
       "      <td>7100.000000</td>\n",
       "      <td>7978.000000</td>\n",
       "      <td>6942.500000</td>\n",
       "      <td>7915.750000</td>\n",
       "      <td>7915.750000</td>\n",
       "      <td>584274.0</td>\n",
       "    </tr>\n",
       "    <tr>\n",
       "      <th>4918</th>\n",
       "      <td>2020-03-15</td>\n",
       "      <td>7100.000000</td>\n",
       "      <td>7978.000000</td>\n",
       "      <td>6942.500000</td>\n",
       "      <td>7215.250000</td>\n",
       "      <td>7215.250000</td>\n",
       "      <td>578813.0</td>\n",
       "    </tr>\n",
       "    <tr>\n",
       "      <th>4919</th>\n",
       "      <td>2020-03-16</td>\n",
       "      <td>7903.000000</td>\n",
       "      <td>7905.250000</td>\n",
       "      <td>6927.000000</td>\n",
       "      <td>7057.500000</td>\n",
       "      <td>7057.500000</td>\n",
       "      <td>307368.0</td>\n",
       "    </tr>\n",
       "    <tr>\n",
       "      <th>4920</th>\n",
       "      <td>2020-03-17</td>\n",
       "      <td>7053.000000</td>\n",
       "      <td>7552.250000</td>\n",
       "      <td>6948.750000</td>\n",
       "      <td>7405.250000</td>\n",
       "      <td>7405.250000</td>\n",
       "      <td>317501.0</td>\n",
       "    </tr>\n",
       "    <tr>\n",
       "      <th>4921</th>\n",
       "      <td>2020-03-18</td>\n",
       "      <td>7386.000000</td>\n",
       "      <td>7392.250000</td>\n",
       "      <td>6830.000000</td>\n",
       "      <td>7225.250000</td>\n",
       "      <td>7225.250000</td>\n",
       "      <td>156283.0</td>\n",
       "    </tr>\n",
       "    <tr>\n",
       "      <th>4922</th>\n",
       "      <td>2020-03-19</td>\n",
       "      <td>7251.750000</td>\n",
       "      <td>7521.500000</td>\n",
       "      <td>6894.250000</td>\n",
       "      <td>7293.500000</td>\n",
       "      <td>7293.500000</td>\n",
       "      <td>115519.0</td>\n",
       "    </tr>\n",
       "    <tr>\n",
       "      <th>4923</th>\n",
       "      <td>2020-03-20</td>\n",
       "      <td>7195.000000</td>\n",
       "      <td>7649.000000</td>\n",
       "      <td>7153.500000</td>\n",
       "      <td>7417.979980</td>\n",
       "      <td>7417.979980</td>\n",
       "      <td>562616.0</td>\n",
       "    </tr>\n",
       "    <tr>\n",
       "      <th>4924</th>\n",
       "      <td>2020-03-22</td>\n",
       "      <td>6798.000000</td>\n",
       "      <td>6798.000000</td>\n",
       "      <td>6628.750000</td>\n",
       "      <td>6688.750000</td>\n",
       "      <td>6688.750000</td>\n",
       "      <td>321230.0</td>\n",
       "    </tr>\n",
       "    <tr>\n",
       "      <th>4925</th>\n",
       "      <td>2020-03-23</td>\n",
       "      <td>6798.000000</td>\n",
       "      <td>7316.250000</td>\n",
       "      <td>6628.750000</td>\n",
       "      <td>6984.500000</td>\n",
       "      <td>6984.500000</td>\n",
       "      <td>633237.0</td>\n",
       "    </tr>\n",
       "    <tr>\n",
       "      <th>4926</th>\n",
       "      <td>2020-03-24</td>\n",
       "      <td>7005.750000</td>\n",
       "      <td>7572.250000</td>\n",
       "      <td>7005.750000</td>\n",
       "      <td>7554.750000</td>\n",
       "      <td>7554.750000</td>\n",
       "      <td>556553.0</td>\n",
       "    </tr>\n",
       "    <tr>\n",
       "      <th>4945</th>\n",
       "      <td>2020-04-17</td>\n",
       "      <td>8909.750000</td>\n",
       "      <td>8966.750000</td>\n",
       "      <td>8689.500000</td>\n",
       "      <td>8809.000000</td>\n",
       "      <td>8809.000000</td>\n",
       "      <td>509555.0</td>\n",
       "    </tr>\n",
       "    <tr>\n",
       "      <th>5055</th>\n",
       "      <td>2020-08-26</td>\n",
       "      <td>11739.500000</td>\n",
       "      <td>12001.500000</td>\n",
       "      <td>11726.799805</td>\n",
       "      <td>11991.200195</td>\n",
       "      <td>11991.200195</td>\n",
       "      <td>578801.0</td>\n",
       "    </tr>\n",
       "    <tr>\n",
       "      <th>5056</th>\n",
       "      <td>2020-08-27</td>\n",
       "      <td>11984.500000</td>\n",
       "      <td>12046.000000</td>\n",
       "      <td>11834.799805</td>\n",
       "      <td>11952.799805</td>\n",
       "      <td>11952.799805</td>\n",
       "      <td>709346.0</td>\n",
       "    </tr>\n",
       "    <tr>\n",
       "      <th>5057</th>\n",
       "      <td>2020-08-28</td>\n",
       "      <td>11953.200195</td>\n",
       "      <td>12018.200195</td>\n",
       "      <td>11920.500000</td>\n",
       "      <td>11991.799805</td>\n",
       "      <td>11991.799805</td>\n",
       "      <td>489066.0</td>\n",
       "    </tr>\n",
       "    <tr>\n",
       "      <th>5058</th>\n",
       "      <td>2020-08-30</td>\n",
       "      <td>12002.750000</td>\n",
       "      <td>12040.000000</td>\n",
       "      <td>11998.000000</td>\n",
       "      <td>12037.000000</td>\n",
       "      <td>12037.000000</td>\n",
       "      <td>354186.0</td>\n",
       "    </tr>\n",
       "    <tr>\n",
       "      <th>5059</th>\n",
       "      <td>2020-08-31</td>\n",
       "      <td>12002.799805</td>\n",
       "      <td>12165.000000</td>\n",
       "      <td>11988.200195</td>\n",
       "      <td>12114.000000</td>\n",
       "      <td>12114.000000</td>\n",
       "      <td>480979.0</td>\n",
       "    </tr>\n",
       "    <tr>\n",
       "      <th>5060</th>\n",
       "      <td>2020-09-01</td>\n",
       "      <td>12109.799805</td>\n",
       "      <td>12328.799805</td>\n",
       "      <td>12093.000000</td>\n",
       "      <td>12312.500000</td>\n",
       "      <td>12312.500000</td>\n",
       "      <td>518997.0</td>\n",
       "    </tr>\n",
       "    <tr>\n",
       "      <th>5061</th>\n",
       "      <td>2020-09-02</td>\n",
       "      <td>12325.500000</td>\n",
       "      <td>12465.200195</td>\n",
       "      <td>12172.200195</td>\n",
       "      <td>12411.500000</td>\n",
       "      <td>12411.500000</td>\n",
       "      <td>725395.0</td>\n",
       "    </tr>\n",
       "    <tr>\n",
       "      <th>5062</th>\n",
       "      <td>2020-09-03</td>\n",
       "      <td>12408.500000</td>\n",
       "      <td>12438.799805</td>\n",
       "      <td>11658.500000</td>\n",
       "      <td>11800.500000</td>\n",
       "      <td>11800.500000</td>\n",
       "      <td>931583.0</td>\n",
       "    </tr>\n",
       "    <tr>\n",
       "      <th>5076</th>\n",
       "      <td>2020-09-24</td>\n",
       "      <td>10803.500000</td>\n",
       "      <td>11011.799805</td>\n",
       "      <td>10660.200195</td>\n",
       "      <td>10891.799805</td>\n",
       "      <td>10891.799805</td>\n",
       "      <td>791934.0</td>\n",
       "    </tr>\n",
       "  </tbody>\n",
       "</table>\n",
       "</div>"
      ],
      "text/plain": [
       "           Date          Open          High           Low         Close  \\\n",
       "4891 2020-02-11   9525.000000   9609.500000   9501.250000   9527.250000   \n",
       "4892 2020-02-12   9536.250000   9628.250000   9523.750000   9625.750000   \n",
       "4893 2020-02-13   9621.500000   9644.750000   9511.250000   9613.000000   \n",
       "4894 2020-02-14   9626.250000   9659.250000   9588.000000   9632.250000   \n",
       "4895 2020-02-16   9635.000000   9668.750000   9634.250000   9663.750000   \n",
       "4896 2020-02-18   9635.000000   9687.500000   9534.250000   9636.000000   \n",
       "4897 2020-02-19   9643.250000   9748.750000   9641.250000   9733.500000   \n",
       "4898 2020-02-20   9744.750000   9763.000000   9517.000000   9624.250000   \n",
       "4899 2020-02-21   9617.250000   9623.750000   9411.500000   9458.000000   \n",
       "4900 2020-02-23   9355.250000   9365.000000   9289.000000   9315.000000   \n",
       "4917 2020-03-13   7100.000000   7978.000000   6942.500000   7915.750000   \n",
       "4918 2020-03-15   7100.000000   7978.000000   6942.500000   7215.250000   \n",
       "4919 2020-03-16   7903.000000   7905.250000   6927.000000   7057.500000   \n",
       "4920 2020-03-17   7053.000000   7552.250000   6948.750000   7405.250000   \n",
       "4921 2020-03-18   7386.000000   7392.250000   6830.000000   7225.250000   \n",
       "4922 2020-03-19   7251.750000   7521.500000   6894.250000   7293.500000   \n",
       "4923 2020-03-20   7195.000000   7649.000000   7153.500000   7417.979980   \n",
       "4924 2020-03-22   6798.000000   6798.000000   6628.750000   6688.750000   \n",
       "4925 2020-03-23   6798.000000   7316.250000   6628.750000   6984.500000   \n",
       "4926 2020-03-24   7005.750000   7572.250000   7005.750000   7554.750000   \n",
       "4945 2020-04-17   8909.750000   8966.750000   8689.500000   8809.000000   \n",
       "5055 2020-08-26  11739.500000  12001.500000  11726.799805  11991.200195   \n",
       "5056 2020-08-27  11984.500000  12046.000000  11834.799805  11952.799805   \n",
       "5057 2020-08-28  11953.200195  12018.200195  11920.500000  11991.799805   \n",
       "5058 2020-08-30  12002.750000  12040.000000  11998.000000  12037.000000   \n",
       "5059 2020-08-31  12002.799805  12165.000000  11988.200195  12114.000000   \n",
       "5060 2020-09-01  12109.799805  12328.799805  12093.000000  12312.500000   \n",
       "5061 2020-09-02  12325.500000  12465.200195  12172.200195  12411.500000   \n",
       "5062 2020-09-03  12408.500000  12438.799805  11658.500000  11800.500000   \n",
       "5076 2020-09-24  10803.500000  11011.799805  10660.200195  10891.799805   \n",
       "\n",
       "         Adj Close    Volume  \n",
       "4891   9527.250000  589570.0  \n",
       "4892   9625.750000  454472.0  \n",
       "4893   9613.000000  613580.0  \n",
       "4894   9632.250000  489387.0  \n",
       "4895   9663.750000  297278.0  \n",
       "4896   9636.000000  668505.0  \n",
       "4897   9733.500000  419130.0  \n",
       "4898   9624.250000  802424.0  \n",
       "4899   9458.000000  911839.0  \n",
       "4900   9315.000000  995989.0  \n",
       "4917   7915.750000  584274.0  \n",
       "4918   7215.250000  578813.0  \n",
       "4919   7057.500000  307368.0  \n",
       "4920   7405.250000  317501.0  \n",
       "4921   7225.250000  156283.0  \n",
       "4922   7293.500000  115519.0  \n",
       "4923   7417.979980  562616.0  \n",
       "4924   6688.750000  321230.0  \n",
       "4925   6984.500000  633237.0  \n",
       "4926   7554.750000  556553.0  \n",
       "4945   8809.000000  509555.0  \n",
       "5055  11991.200195  578801.0  \n",
       "5056  11952.799805  709346.0  \n",
       "5057  11991.799805  489066.0  \n",
       "5058  12037.000000  354186.0  \n",
       "5059  12114.000000  480979.0  \n",
       "5060  12312.500000  518997.0  \n",
       "5061  12411.500000  725395.0  \n",
       "5062  11800.500000  931583.0  \n",
       "5076  10891.799805  791934.0  "
      ]
     },
     "execution_count": 65,
     "metadata": {},
     "output_type": "execute_result"
    }
   ],
   "source": [
    "df[(kmeans.labels_==8)| (kmeans.labels_==12)]"
   ]
  },
  {
   "cell_type": "code",
   "execution_count": 60,
   "metadata": {},
   "outputs": [
    {
     "data": {
      "text/html": [
       "<div>\n",
       "<style scoped>\n",
       "    .dataframe tbody tr th:only-of-type {\n",
       "        vertical-align: middle;\n",
       "    }\n",
       "\n",
       "    .dataframe tbody tr th {\n",
       "        vertical-align: top;\n",
       "    }\n",
       "\n",
       "    .dataframe thead th {\n",
       "        text-align: right;\n",
       "    }\n",
       "</style>\n",
       "<table border=\"1\" class=\"dataframe\">\n",
       "  <thead>\n",
       "    <tr style=\"text-align: right;\">\n",
       "      <th></th>\n",
       "      <th>Open</th>\n",
       "      <th>High</th>\n",
       "      <th>Low</th>\n",
       "      <th>Close</th>\n",
       "      <th>Adj Close</th>\n",
       "      <th>Volume</th>\n",
       "    </tr>\n",
       "  </thead>\n",
       "  <tbody>\n",
       "    <tr>\n",
       "      <th>count</th>\n",
       "      <td>5098.000000</td>\n",
       "      <td>5098.000000</td>\n",
       "      <td>5098.000000</td>\n",
       "      <td>5098.000000</td>\n",
       "      <td>5098.000000</td>\n",
       "      <td>5.098000e+03</td>\n",
       "    </tr>\n",
       "    <tr>\n",
       "      <th>mean</th>\n",
       "      <td>3329.358747</td>\n",
       "      <td>3360.794284</td>\n",
       "      <td>3297.286767</td>\n",
       "      <td>3331.291122</td>\n",
       "      <td>3331.291122</td>\n",
       "      <td>2.882167e+05</td>\n",
       "    </tr>\n",
       "    <tr>\n",
       "      <th>std</th>\n",
       "      <td>2400.978546</td>\n",
       "      <td>2422.128357</td>\n",
       "      <td>2380.456260</td>\n",
       "      <td>2404.769584</td>\n",
       "      <td>2404.769584</td>\n",
       "      <td>1.595897e+05</td>\n",
       "    </tr>\n",
       "    <tr>\n",
       "      <th>min</th>\n",
       "      <td>810.000000</td>\n",
       "      <td>828.500000</td>\n",
       "      <td>797.500000</td>\n",
       "      <td>809.500000</td>\n",
       "      <td>809.500000</td>\n",
       "      <td>0.000000e+00</td>\n",
       "    </tr>\n",
       "    <tr>\n",
       "      <th>25%</th>\n",
       "      <td>1593.500000</td>\n",
       "      <td>1608.500000</td>\n",
       "      <td>1576.500000</td>\n",
       "      <td>1593.125000</td>\n",
       "      <td>1593.125000</td>\n",
       "      <td>1.907512e+05</td>\n",
       "    </tr>\n",
       "    <tr>\n",
       "      <th>50%</th>\n",
       "      <td>2232.000000</td>\n",
       "      <td>2259.875000</td>\n",
       "      <td>2211.750000</td>\n",
       "      <td>2232.875000</td>\n",
       "      <td>2232.875000</td>\n",
       "      <td>2.657315e+05</td>\n",
       "    </tr>\n",
       "    <tr>\n",
       "      <th>75%</th>\n",
       "      <td>4447.000000</td>\n",
       "      <td>4469.875000</td>\n",
       "      <td>4419.437500</td>\n",
       "      <td>4451.187500</td>\n",
       "      <td>4451.187500</td>\n",
       "      <td>3.562115e+05</td>\n",
       "    </tr>\n",
       "    <tr>\n",
       "      <th>max</th>\n",
       "      <td>12408.500000</td>\n",
       "      <td>12465.200195</td>\n",
       "      <td>12172.200195</td>\n",
       "      <td>12411.500000</td>\n",
       "      <td>12411.500000</td>\n",
       "      <td>1.580041e+06</td>\n",
       "    </tr>\n",
       "  </tbody>\n",
       "</table>\n",
       "</div>"
      ],
      "text/plain": [
       "               Open          High           Low         Close     Adj Close  \\\n",
       "count   5098.000000   5098.000000   5098.000000   5098.000000   5098.000000   \n",
       "mean    3329.358747   3360.794284   3297.286767   3331.291122   3331.291122   \n",
       "std     2400.978546   2422.128357   2380.456260   2404.769584   2404.769584   \n",
       "min      810.000000    828.500000    797.500000    809.500000    809.500000   \n",
       "25%     1593.500000   1608.500000   1576.500000   1593.125000   1593.125000   \n",
       "50%     2232.000000   2259.875000   2211.750000   2232.875000   2232.875000   \n",
       "75%     4447.000000   4469.875000   4419.437500   4451.187500   4451.187500   \n",
       "max    12408.500000  12465.200195  12172.200195  12411.500000  12411.500000   \n",
       "\n",
       "             Volume  \n",
       "count  5.098000e+03  \n",
       "mean   2.882167e+05  \n",
       "std    1.595897e+05  \n",
       "min    0.000000e+00  \n",
       "25%    1.907512e+05  \n",
       "50%    2.657315e+05  \n",
       "75%    3.562115e+05  \n",
       "max    1.580041e+06  "
      ]
     },
     "execution_count": 60,
     "metadata": {},
     "output_type": "execute_result"
    }
   ],
   "source": [
    "df.describe()"
   ]
  },
  {
   "cell_type": "code",
   "execution_count": 62,
   "metadata": {},
   "outputs": [
    {
     "data": {
      "text/html": [
       "<div>\n",
       "<style scoped>\n",
       "    .dataframe tbody tr th:only-of-type {\n",
       "        vertical-align: middle;\n",
       "    }\n",
       "\n",
       "    .dataframe tbody tr th {\n",
       "        vertical-align: top;\n",
       "    }\n",
       "\n",
       "    .dataframe thead th {\n",
       "        text-align: right;\n",
       "    }\n",
       "</style>\n",
       "<table border=\"1\" class=\"dataframe\">\n",
       "  <thead>\n",
       "    <tr style=\"text-align: right;\">\n",
       "      <th></th>\n",
       "      <th>Open</th>\n",
       "      <th>High</th>\n",
       "      <th>Low</th>\n",
       "      <th>Close</th>\n",
       "      <th>Volume</th>\n",
       "    </tr>\n",
       "  </thead>\n",
       "  <tbody>\n",
       "    <tr>\n",
       "      <th>0</th>\n",
       "      <td>0.194578</td>\n",
       "      <td>0.193084</td>\n",
       "      <td>0.252013</td>\n",
       "      <td>0.233630</td>\n",
       "      <td>-0.443905</td>\n",
       "    </tr>\n",
       "    <tr>\n",
       "      <th>1</th>\n",
       "      <td>-1.333821</td>\n",
       "      <td>-1.483672</td>\n",
       "      <td>-2.026410</td>\n",
       "      <td>-2.027606</td>\n",
       "      <td>3.052986</td>\n",
       "    </tr>\n",
       "    <tr>\n",
       "      <th>2</th>\n",
       "      <td>-0.234961</td>\n",
       "      <td>-0.237032</td>\n",
       "      <td>-0.220148</td>\n",
       "      <td>-0.218888</td>\n",
       "      <td>0.175160</td>\n",
       "    </tr>\n",
       "    <tr>\n",
       "      <th>3</th>\n",
       "      <td>2.867673</td>\n",
       "      <td>2.755949</td>\n",
       "      <td>2.001638</td>\n",
       "      <td>1.941786</td>\n",
       "      <td>2.835088</td>\n",
       "    </tr>\n",
       "    <tr>\n",
       "      <th>4</th>\n",
       "      <td>-0.019224</td>\n",
       "      <td>-0.041160</td>\n",
       "      <td>-0.306351</td>\n",
       "      <td>-0.279899</td>\n",
       "      <td>1.701011</td>\n",
       "    </tr>\n",
       "    <tr>\n",
       "      <th>5</th>\n",
       "      <td>0.868996</td>\n",
       "      <td>0.903342</td>\n",
       "      <td>0.935606</td>\n",
       "      <td>0.923896</td>\n",
       "      <td>-0.310361</td>\n",
       "    </tr>\n",
       "    <tr>\n",
       "      <th>6</th>\n",
       "      <td>-0.899405</td>\n",
       "      <td>-0.912158</td>\n",
       "      <td>-0.888788</td>\n",
       "      <td>-0.866056</td>\n",
       "      <td>0.467757</td>\n",
       "    </tr>\n",
       "    <tr>\n",
       "      <th>7</th>\n",
       "      <td>-4.195611</td>\n",
       "      <td>-4.554132</td>\n",
       "      <td>-4.181233</td>\n",
       "      <td>-4.167360</td>\n",
       "      <td>0.790436</td>\n",
       "    </tr>\n",
       "    <tr>\n",
       "      <th>8</th>\n",
       "      <td>6.092861</td>\n",
       "      <td>6.187818</td>\n",
       "      <td>6.208749</td>\n",
       "      <td>6.171515</td>\n",
       "      <td>-0.432828</td>\n",
       "    </tr>\n",
       "    <tr>\n",
       "      <th>9</th>\n",
       "      <td>0.316971</td>\n",
       "      <td>0.346216</td>\n",
       "      <td>0.271677</td>\n",
       "      <td>0.288842</td>\n",
       "      <td>0.449370</td>\n",
       "    </tr>\n",
       "    <tr>\n",
       "      <th>10</th>\n",
       "      <td>-0.433049</td>\n",
       "      <td>-0.474825</td>\n",
       "      <td>-0.342031</td>\n",
       "      <td>-0.377709</td>\n",
       "      <td>-1.202743</td>\n",
       "    </tr>\n",
       "    <tr>\n",
       "      <th>11</th>\n",
       "      <td>2.257370</td>\n",
       "      <td>2.342472</td>\n",
       "      <td>2.442868</td>\n",
       "      <td>2.409423</td>\n",
       "      <td>-0.655462</td>\n",
       "    </tr>\n",
       "    <tr>\n",
       "      <th>12</th>\n",
       "      <td>-8.534057</td>\n",
       "      <td>-7.582619</td>\n",
       "      <td>-8.589515</td>\n",
       "      <td>-7.702299</td>\n",
       "      <td>-2.336647</td>\n",
       "    </tr>\n",
       "    <tr>\n",
       "      <th>13</th>\n",
       "      <td>-2.258736</td>\n",
       "      <td>-2.314826</td>\n",
       "      <td>-2.177095</td>\n",
       "      <td>-2.160347</td>\n",
       "      <td>-0.101850</td>\n",
       "    </tr>\n",
       "    <tr>\n",
       "      <th>14</th>\n",
       "      <td>0.343754</td>\n",
       "      <td>0.332359</td>\n",
       "      <td>0.402834</td>\n",
       "      <td>0.383912</td>\n",
       "      <td>-1.927885</td>\n",
       "    </tr>\n",
       "  </tbody>\n",
       "</table>\n",
       "</div>"
      ],
      "text/plain": [
       "        Open      High       Low     Close    Volume\n",
       "0   0.194578  0.193084  0.252013  0.233630 -0.443905\n",
       "1  -1.333821 -1.483672 -2.026410 -2.027606  3.052986\n",
       "2  -0.234961 -0.237032 -0.220148 -0.218888  0.175160\n",
       "3   2.867673  2.755949  2.001638  1.941786  2.835088\n",
       "4  -0.019224 -0.041160 -0.306351 -0.279899  1.701011\n",
       "5   0.868996  0.903342  0.935606  0.923896 -0.310361\n",
       "6  -0.899405 -0.912158 -0.888788 -0.866056  0.467757\n",
       "7  -4.195611 -4.554132 -4.181233 -4.167360  0.790436\n",
       "8   6.092861  6.187818  6.208749  6.171515 -0.432828\n",
       "9   0.316971  0.346216  0.271677  0.288842  0.449370\n",
       "10 -0.433049 -0.474825 -0.342031 -0.377709 -1.202743\n",
       "11  2.257370  2.342472  2.442868  2.409423 -0.655462\n",
       "12 -8.534057 -7.582619 -8.589515 -7.702299 -2.336647\n",
       "13 -2.258736 -2.314826 -2.177095 -2.160347 -0.101850\n",
       "14  0.343754  0.332359  0.402834  0.383912 -1.927885"
      ]
     },
     "execution_count": 62,
     "metadata": {},
     "output_type": "execute_result"
    }
   ],
   "source": [
    "pd.DataFrame(kmeans.cluster_centers_, columns=['Open', 'High', 'Low', 'Close', 'Volume'])"
   ]
  },
  {
   "cell_type": "code",
   "execution_count": null,
   "metadata": {},
   "outputs": [],
   "source": [
    "fig = plt.figure(figsize=(15,9))\n",
    "ax = fig.add_subplot(111)\n"
   ]
  }
 ],
 "metadata": {
  "kernelspec": {
   "display_name": "aiffel",
   "language": "python",
   "name": "aiffel"
  },
  "language_info": {
   "codemirror_mode": {
    "name": "ipython",
    "version": 3
   },
   "file_extension": ".py",
   "mimetype": "text/x-python",
   "name": "python",
   "nbconvert_exporter": "python",
   "pygments_lexer": "ipython3",
   "version": "3.7.6"
  }
 },
 "nbformat": 4,
 "nbformat_minor": 4
}
