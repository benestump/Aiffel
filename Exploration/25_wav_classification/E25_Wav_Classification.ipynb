{
 "cells": [
  {
   "cell_type": "code",
   "execution_count": 27,
   "metadata": {},
   "outputs": [],
   "source": [
    "import numpy as np\n",
    "import matplotlib.pyplot as plt\n",
    "import os\n",
    "import IPython.display as ipd\n",
    "import random\n",
    "from sklearn.model_selection import train_test_split\n",
    "import tensorflow as tf\n",
    "from tensorflow.keras import layers"
   ]
  },
  {
   "cell_type": "code",
   "execution_count": 4,
   "metadata": {},
   "outputs": [],
   "source": [
    "data_path = os.getenv(\"HOME\") + '/aiffel/speech_recognition/data/speech_wav_8000.npz'\n",
    "speech_data = np.load(data_path)\n"
   ]
  },
  {
   "cell_type": "code",
   "execution_count": 6,
   "metadata": {},
   "outputs": [
    {
     "name": "stdout",
     "output_type": "stream",
     "text": [
      "Wave data shape : (50620, 8000)\n",
      "Label data shape : (50620, 1)\n"
     ]
    }
   ],
   "source": [
    "print(f\"Wave data shape : {speech_data['wav_vals'].shape}\")\n",
    "print(f\"Label data shape : {speech_data['label_vals'].shape}\")"
   ]
  },
  {
   "cell_type": "code",
   "execution_count": 9,
   "metadata": {},
   "outputs": [
    {
     "name": "stdout",
     "output_type": "stream",
     "text": [
      "rand num : 5155\n",
      "Wave data shape : (8000,)\n",
      "label : ['left']\n"
     ]
    },
    {
     "data": {
      "text/html": [
       "\n",
       "                <audio  controls=\"controls\" >\n",
       "                    <source src=\"data:audio/wav;base64,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\" type=\"audio/wav\" />\n",
       "                    Your browser does not support the audio element.\n",
       "                </audio>\n",
       "              "
      ],
      "text/plain": [
       "<IPython.lib.display.Audio object>"
      ]
     },
     "execution_count": 9,
     "metadata": {},
     "output_type": "execute_result"
    }
   ],
   "source": [
    "rand = random.randint(0, len(speech_data['wav_vals']))\n",
    "print(f\"rand num : {rand}\")\n",
    "\n",
    "sr = 8000\n",
    "data = speech_data['wav_vals'][rand]\n",
    "print(f\"Wave data shape : {data.shape}\")\n",
    "print(f\"label : {speech_data['label_vals'][rand]}\")\n",
    "\n",
    "ipd.Audio(data, rate=sr)"
   ]
  },
  {
   "cell_type": "code",
   "execution_count": 12,
   "metadata": {},
   "outputs": [
    {
     "data": {
      "text/plain": [
       "{'yes': 0,\n",
       " 'no': 1,\n",
       " 'up': 2,\n",
       " 'down': 3,\n",
       " 'left': 4,\n",
       " 'right': 5,\n",
       " 'on': 6,\n",
       " 'off': 7,\n",
       " 'stop': 8,\n",
       " 'go': 9,\n",
       " 'unknown': 10,\n",
       " 'silence': 11}"
      ]
     },
     "execution_count": 12,
     "metadata": {},
     "output_type": "execute_result"
    }
   ],
   "source": [
    "target_list = ['yes', 'no', 'up', 'down', 'left', 'right', 'on', 'off', 'stop', 'go']\n",
    "\n",
    "label_value = target_list\n",
    "label_value.append('unknown')\n",
    "label_value.append('silence')\n",
    "\n",
    "new_label_value = dict()\n",
    "for i, l in enumerate(label_value):\n",
    "    new_label_value[l] = i\n",
    "label_value = new_label_value\n",
    "label_value"
   ]
  },
  {
   "cell_type": "code",
   "execution_count": 14,
   "metadata": {},
   "outputs": [
    {
     "data": {
      "text/plain": [
       "array([ 3,  3,  3, ..., 11, 11, 11])"
      ]
     },
     "execution_count": 14,
     "metadata": {},
     "output_type": "execute_result"
    }
   ],
   "source": [
    "temp = []\n",
    "for v in speech_data['label_vals']:\n",
    "    temp.append(label_value[v[0]])\n",
    "label_data = np.array(temp)\n",
    "label_data"
   ]
  },
  {
   "cell_type": "code",
   "execution_count": 20,
   "metadata": {},
   "outputs": [
    {
     "name": "stdout",
     "output_type": "stream",
     "text": [
      "[[-7.95670412e-03 -1.21364919e-02 -1.19321197e-02 ... -1.38819711e-02\n",
      "  -1.27821285e-02 -1.29595129e-02]\n",
      " [-2.97594324e-05  2.21090624e-04 -9.67003463e-04 ...  1.89499697e-03\n",
      "   1.49327365e-03  1.17175980e-03]\n",
      " [ 3.74587689e-04  1.56902638e-03  2.63484777e-03 ... -9.08147718e-04\n",
      "  -1.51947758e-03 -3.11840954e-03]\n",
      " ...\n",
      " [ 2.25460250e-02 -1.10248424e-01 -1.39737293e-01 ...  1.70766771e-01\n",
      "   3.33424330e-01  1.34063333e-01]\n",
      " [-5.21442678e-04 -7.30324886e-04 -6.24099048e-04 ...  1.77421223e-03\n",
      "   1.39416556e-03  1.12028222e-03]\n",
      " [ 3.32810543e-03  4.86725755e-03  1.01086698e-05 ...  2.49759248e-03\n",
      "   1.81381940e-03 -2.04087840e-03]]\n"
     ]
    }
   ],
   "source": [
    "sr = 8000\n",
    "\n",
    "train_wav, test_wav, train_label, test_label = train_test_split(speech_data['wav_vals'], label_data, test_size=0.1, shuffle=True)\n",
    "\n",
    "print(train_wav)\n",
    "\n",
    "train_wav = train_wav.reshape([-1, sr, 1])\n",
    "test_wav = test_wav.reshape([-1, sr, 1])"
   ]
  },
  {
   "cell_type": "code",
   "execution_count": 21,
   "metadata": {},
   "outputs": [
    {
     "data": {
      "text/plain": [
       "array([[[-7.95670412e-03],\n",
       "        [-1.21364919e-02],\n",
       "        [-1.19321197e-02],\n",
       "        ...,\n",
       "        [-1.38819711e-02],\n",
       "        [-1.27821285e-02],\n",
       "        [-1.29595129e-02]],\n",
       "\n",
       "       [[-2.97594324e-05],\n",
       "        [ 2.21090624e-04],\n",
       "        [-9.67003463e-04],\n",
       "        ...,\n",
       "        [ 1.89499697e-03],\n",
       "        [ 1.49327365e-03],\n",
       "        [ 1.17175980e-03]],\n",
       "\n",
       "       [[ 3.74587689e-04],\n",
       "        [ 1.56902638e-03],\n",
       "        [ 2.63484777e-03],\n",
       "        ...,\n",
       "        [-9.08147718e-04],\n",
       "        [-1.51947758e-03],\n",
       "        [-3.11840954e-03]],\n",
       "\n",
       "       ...,\n",
       "\n",
       "       [[ 2.25460250e-02],\n",
       "        [-1.10248424e-01],\n",
       "        [-1.39737293e-01],\n",
       "        ...,\n",
       "        [ 1.70766771e-01],\n",
       "        [ 3.33424330e-01],\n",
       "        [ 1.34063333e-01]],\n",
       "\n",
       "       [[-5.21442678e-04],\n",
       "        [-7.30324886e-04],\n",
       "        [-6.24099048e-04],\n",
       "        ...,\n",
       "        [ 1.77421223e-03],\n",
       "        [ 1.39416556e-03],\n",
       "        [ 1.12028222e-03]],\n",
       "\n",
       "       [[ 3.32810543e-03],\n",
       "        [ 4.86725755e-03],\n",
       "        [ 1.01086698e-05],\n",
       "        ...,\n",
       "        [ 2.49759248e-03],\n",
       "        [ 1.81381940e-03],\n",
       "        [-2.04087840e-03]]], dtype=float32)"
      ]
     },
     "execution_count": 21,
     "metadata": {},
     "output_type": "execute_result"
    }
   ],
   "source": [
    "train_wav"
   ]
  },
  {
   "cell_type": "code",
   "execution_count": 22,
   "metadata": {},
   "outputs": [
    {
     "name": "stdout",
     "output_type": "stream",
     "text": [
      "train data : (45558, 8000, 1)\n",
      "train label : (45558,)\n",
      "test data : (5062, 8000, 1)\n",
      "test label : (5062,)\n"
     ]
    }
   ],
   "source": [
    "print(f\"train data : {train_wav.shape}\")\n",
    "print(f\"train label : {train_label.shape}\")\n",
    "print(f\"test data : {test_wav.shape}\")\n",
    "print(f\"test label : {test_label.shape}\")\n"
   ]
  },
  {
   "cell_type": "code",
   "execution_count": 23,
   "metadata": {},
   "outputs": [
    {
     "data": {
      "text/plain": [
       "'/home/aiffel/aiffel/speech_recognition/models/wav'"
      ]
     },
     "execution_count": 23,
     "metadata": {},
     "output_type": "execute_result"
    }
   ],
   "source": [
    "batch_size = 128\n",
    "max_epochs = 10\n",
    "\n",
    "checkpoint_dir = os.getenv(\"HOME\") + \"/aiffel/speech_recognition/models/wav\"\n",
    "\n",
    "checkpoint_dir"
   ]
  },
  {
   "cell_type": "code",
   "execution_count": 24,
   "metadata": {},
   "outputs": [],
   "source": [
    "def one_hot_label(wav, label):\n",
    "    label = tf.one_hot(label, depth = 12)\n",
    "    return wav, label"
   ]
  },
  {
   "cell_type": "code",
   "execution_count": 26,
   "metadata": {},
   "outputs": [
    {
     "name": "stdout",
     "output_type": "stream",
     "text": [
      "<BatchDataset shapes: ((None, 8000, 1), (None, 12)), types: (tf.float32, tf.float32)>\n",
      "<BatchDataset shapes: ((None, 8000, 1), (None, 12)), types: (tf.float32, tf.float32)>\n"
     ]
    }
   ],
   "source": [
    "train_dataset = tf.data.Dataset.from_tensor_slices((train_wav, train_label))\n",
    "train_dataset = train_dataset.map(one_hot_label)\n",
    "train_dataset = train_dataset.repeat().batch(batch_size=batch_size)\n",
    "print(train_dataset)\n",
    "\n",
    "test_dataset = tf.data.Dataset.from_tensor_slices((test_wav, test_label))\n",
    "test_dataset = test_dataset.map(one_hot_label)\n",
    "test_dataset = test_dataset.repeat().batch(batch_size=batch_size)\n",
    "print(test_dataset)"
   ]
  },
  {
   "cell_type": "code",
   "execution_count": 29,
   "metadata": {},
   "outputs": [
    {
     "name": "stdout",
     "output_type": "stream",
     "text": [
      "Model: \"functional_1\"\n",
      "_________________________________________________________________\n",
      "Layer (type)                 Output Shape              Param #   \n",
      "=================================================================\n",
      "input_2 (InputLayer)         [(None, 8000, 1)]         0         \n",
      "_________________________________________________________________\n",
      "conv1d_2 (Conv1D)            (None, 8000, 32)          320       \n",
      "_________________________________________________________________\n",
      "conv1d_3 (Conv1D)            (None, 8000, 32)          9248      \n",
      "_________________________________________________________________\n",
      "max_pooling1d (MaxPooling1D) (None, 4000, 32)          0         \n",
      "_________________________________________________________________\n",
      "conv1d_4 (Conv1D)            (None, 4000, 64)          18496     \n",
      "_________________________________________________________________\n",
      "conv1d_5 (Conv1D)            (None, 4000, 64)          36928     \n",
      "_________________________________________________________________\n",
      "max_pooling1d_1 (MaxPooling1 (None, 2000, 64)          0         \n",
      "_________________________________________________________________\n",
      "conv1d_6 (Conv1D)            (None, 2000, 128)         73856     \n",
      "_________________________________________________________________\n",
      "conv1d_7 (Conv1D)            (None, 2000, 128)         147584    \n",
      "_________________________________________________________________\n",
      "conv1d_8 (Conv1D)            (None, 2000, 128)         147584    \n",
      "_________________________________________________________________\n",
      "max_pooling1d_2 (MaxPooling1 (None, 1000, 128)         0         \n",
      "_________________________________________________________________\n",
      "conv1d_9 (Conv1D)            (None, 1000, 256)         295168    \n",
      "_________________________________________________________________\n",
      "conv1d_10 (Conv1D)           (None, 1000, 256)         590080    \n",
      "_________________________________________________________________\n",
      "conv1d_11 (Conv1D)           (None, 1000, 256)         590080    \n",
      "_________________________________________________________________\n",
      "max_pooling1d_3 (MaxPooling1 (None, 500, 256)          0         \n",
      "_________________________________________________________________\n",
      "dropout (Dropout)            (None, 500, 256)          0         \n",
      "_________________________________________________________________\n",
      "flatten (Flatten)            (None, 128000)            0         \n",
      "_________________________________________________________________\n",
      "dense (Dense)                (None, 256)               32768256  \n",
      "_________________________________________________________________\n",
      "batch_normalization (BatchNo (None, 256)               1024      \n",
      "_________________________________________________________________\n",
      "activation (Activation)      (None, 256)               0         \n",
      "_________________________________________________________________\n",
      "dense_1 (Dense)              (None, 12)                3084      \n",
      "=================================================================\n",
      "Total params: 34,681,708\n",
      "Trainable params: 34,681,196\n",
      "Non-trainable params: 512\n",
      "_________________________________________________________________\n"
     ]
    }
   ],
   "source": [
    "input_tensor = layers.Input(shape=(sr, 1))\n",
    "\n",
    "x = layers.Conv1D(32, 9, padding='same', activation='relu')(input_tensor)\n",
    "x = layers.Conv1D(32, 9, padding='same', activation='relu')(x)\n",
    "x = layers.MaxPool1D()(x)\n",
    "\n",
    "x = layers.Conv1D(64, 9, padding='same', activation='relu')(x)\n",
    "x = layers.Conv1D(64, 9, padding='same', activation='relu')(x)\n",
    "x = layers.MaxPool1D()(x)\n",
    "\n",
    "x = layers.Conv1D(128, 9, padding='same', activation='relu')(x)\n",
    "x = layers.Conv1D(128, 9, padding='same', activation='relu')(x)\n",
    "x = layers.Conv1D(128, 9, padding='same', activation='relu')(x)\n",
    "x = layers.MaxPool1D()(x)\n",
    "\n",
    "x = layers.Conv1D(256, 9, padding='same', activation='relu')(x)\n",
    "x = layers.Conv1D(256, 9, padding='same', activation='relu')(x)\n",
    "x = layers.Conv1D(256, 9, padding='same', activation='relu')(x)\n",
    "x = layers.MaxPool1D()(x)\n",
    "x = layers.Dropout(0.3)(x)\n",
    "\n",
    "x = layers.Flatten()(x)\n",
    "x = layers.Dense(256)(x)\n",
    "x = layers.BatchNormalization()(x)\n",
    "x = layers.Activation('relu')(x)\n",
    "\n",
    "output_tensor = layers.Dense(12)(x)\n",
    "\n",
    "model_wav = tf.keras.Model(input_tensor, output_tensor)\n",
    "\n",
    "model_wav.summary()"
   ]
  },
  {
   "cell_type": "code",
   "execution_count": null,
   "metadata": {},
   "outputs": [],
   "source": []
  }
 ],
 "metadata": {
  "kernelspec": {
   "display_name": "aiffel",
   "language": "python",
   "name": "aiffel"
  },
  "language_info": {
   "codemirror_mode": {
    "name": "ipython",
    "version": 3
   },
   "file_extension": ".py",
   "mimetype": "text/x-python",
   "name": "python",
   "nbconvert_exporter": "python",
   "pygments_lexer": "ipython3",
   "version": "3.7.6"
  }
 },
 "nbformat": 4,
 "nbformat_minor": 4
}
